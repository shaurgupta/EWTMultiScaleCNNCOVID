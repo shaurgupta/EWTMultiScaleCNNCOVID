{
  "nbformat": 4,
  "nbformat_minor": 0,
  "metadata": {
    "accelerator": "GPU",
    "colab": {
      "name": "Revised_FiveFolds_EWT_1+2+3+4+5+6+7",
      "provenance": [],
      "collapsed_sections": [
        "ZKTvCh-S_NTe",
        "NKMkf5FE_kMu",
        "QDkozEmh_9pF",
        "_RgZEaStAtkX",
        "0F0lj0FTybAU",
        "IrF52AXkLX3K",
        "7rEMkKGgO88N",
        "xmbJs-WxdpjC",
        "O7kZpmFuoiYT"
      ]
    },
    "kernelspec": {
      "display_name": "Python 3",
      "name": "python3"
    }
  },
  "cells": [
    {
      "cell_type": "markdown",
      "metadata": {
        "id": "ZKTvCh-S_NTe"
      },
      "source": [
        "## Enabling GPU"
      ]
    },
    {
      "cell_type": "code",
      "metadata": {
        "id": "nsP1pNTbbl6U"
      },
      "source": [
        "import numpy as np"
      ],
      "execution_count": null,
      "outputs": []
    },
    {
      "cell_type": "code",
      "metadata": {
        "id": "_1pswl_AbrS_"
      },
      "source": [
        "import tensorflow as tf"
      ],
      "execution_count": null,
      "outputs": []
    },
    {
      "cell_type": "code",
      "metadata": {
        "colab": {
          "base_uri": "https://localhost:8080/"
        },
        "id": "OQNgWlbbbtWX",
        "outputId": "2d34bb5c-9884-403e-f471-33195dc94b9c"
      },
      "source": [
        "!nvidia-smi"
      ],
      "execution_count": null,
      "outputs": [
        {
          "output_type": "stream",
          "text": [
            "Mon May 10 18:42:37 2021       \n",
            "+-----------------------------------------------------------------------------+\n",
            "| NVIDIA-SMI 465.19.01    Driver Version: 460.32.03    CUDA Version: 11.2     |\n",
            "|-------------------------------+----------------------+----------------------+\n",
            "| GPU  Name        Persistence-M| Bus-Id        Disp.A | Volatile Uncorr. ECC |\n",
            "| Fan  Temp  Perf  Pwr:Usage/Cap|         Memory-Usage | GPU-Util  Compute M. |\n",
            "|                               |                      |               MIG M. |\n",
            "|===============================+======================+======================|\n",
            "|   0  Tesla T4            Off  | 00000000:00:04.0 Off |                    0 |\n",
            "| N/A   41C    P8     9W /  70W |      0MiB / 15109MiB |      0%      Default |\n",
            "|                               |                      |                  N/A |\n",
            "+-------------------------------+----------------------+----------------------+\n",
            "                                                                               \n",
            "+-----------------------------------------------------------------------------+\n",
            "| Processes:                                                                  |\n",
            "|  GPU   GI   CI        PID   Type   Process name                  GPU Memory |\n",
            "|        ID   ID                                                   Usage      |\n",
            "|=============================================================================|\n",
            "|  No running processes found                                                 |\n",
            "+-----------------------------------------------------------------------------+\n"
          ],
          "name": "stdout"
        }
      ]
    },
    {
      "cell_type": "code",
      "metadata": {
        "colab": {
          "base_uri": "https://localhost:8080/"
        },
        "id": "6t_ZJs5Jbuyl",
        "outputId": "fc39d611-1528-42ec-e102-f0a50ae640ff"
      },
      "source": [
        "!pip install gputil\n",
        "!pip install psutil\n",
        "!pip install humanize"
      ],
      "execution_count": null,
      "outputs": [
        {
          "output_type": "stream",
          "text": [
            "Requirement already satisfied: gputil in /usr/local/lib/python3.7/dist-packages (1.4.0)\n",
            "Requirement already satisfied: psutil in /usr/local/lib/python3.7/dist-packages (5.4.8)\n",
            "Requirement already satisfied: humanize in /usr/local/lib/python3.7/dist-packages (0.5.1)\n"
          ],
          "name": "stdout"
        }
      ]
    },
    {
      "cell_type": "code",
      "metadata": {
        "colab": {
          "base_uri": "https://localhost:8080/"
        },
        "id": "YG2GF4Jzb89L",
        "outputId": "4d646dbc-d0af-4661-f35c-ba7034919ee2"
      },
      "source": [
        "# Import packages\n",
        "import os,sys,humanize,psutil,GPUtil\n",
        "\n",
        "# Define function\n",
        "def mem_report():\n",
        "  print(\"CPU RAM Free: \" + humanize.naturalsize( psutil.virtual_memory().available ))\n",
        "  \n",
        "  GPUs = GPUtil.getGPUs()\n",
        "  for i, gpu in enumerate(GPUs):\n",
        "    print('GPU {:d} ... Mem Free: {:.0f}MB / {:.0f}MB | Utilization {:3.0f}%'.format(i, gpu.memoryFree, gpu.memoryTotal, gpu.memoryUtil*100))\n",
        "    \n",
        "# Execute function\n",
        "mem_report()"
      ],
      "execution_count": null,
      "outputs": [
        {
          "output_type": "stream",
          "text": [
            "CPU RAM Free: 12.4 GB\n",
            "GPU 0 ... Mem Free: 15109MB / 15109MB | Utilization   0%\n"
          ],
          "name": "stdout"
        }
      ]
    },
    {
      "cell_type": "markdown",
      "metadata": {
        "id": "NKMkf5FE_kMu"
      },
      "source": [
        "## Importing Libraries"
      ]
    },
    {
      "cell_type": "code",
      "metadata": {
        "id": "OfLqamXYb_1w"
      },
      "source": [
        "import tensorflow as tf\n",
        "from tensorflow.keras.layers import Conv2D, Input, ZeroPadding2D, BatchNormalization, Activation, MaxPooling2D, Flatten, Dense\n",
        "from tensorflow.keras.models import Model, load_model\n",
        "from tensorflow.keras.callbacks import TensorBoard, ModelCheckpoint\n",
        "from sklearn.model_selection import train_test_split\n",
        "from sklearn.metrics import f1_score\n",
        "from sklearn.utils import shuffle\n",
        "import cv2\n",
        "import imutils\n",
        "import numpy as np\n",
        "import matplotlib.pyplot as plt\n",
        "import time\n",
        "from os import listdir\n",
        "\n",
        "%matplotlib inline\n",
        "import os\n",
        "from skimage import io"
      ],
      "execution_count": null,
      "outputs": []
    },
    {
      "cell_type": "code",
      "metadata": {
        "colab": {
          "base_uri": "https://localhost:8080/"
        },
        "id": "yaN6dMSGcC_q",
        "outputId": "3a8a5f38-c1f0-41b0-9b4f-574936885a80"
      },
      "source": [
        "from google.colab import drive \n",
        "drive.mount('/content/drive')"
      ],
      "execution_count": null,
      "outputs": [
        {
          "output_type": "stream",
          "text": [
            "Drive already mounted at /content/drive; to attempt to forcibly remount, call drive.mount(\"/content/drive\", force_remount=True).\n"
          ],
          "name": "stdout"
        }
      ]
    },
    {
      "cell_type": "markdown",
      "metadata": {
        "id": "QDkozEmh_9pF"
      },
      "source": [
        "## Mode-1"
      ]
    },
    {
      "cell_type": "code",
      "metadata": {
        "colab": {
          "base_uri": "https://localhost:8080/"
        },
        "id": "16HBjl-ecIJl",
        "outputId": "30cd1695-5abc-4bc3-f276-6845c087554c"
      },
      "source": [
        "from zipfile import ZipFile\n",
        "file_name=\"/content/drive/MyDrive/Nemash/Dataset/Modes/Mode1.zip\"\n",
        "\n",
        "with ZipFile(file_name, 'r') as zip:\n",
        "  zip.extractall()\n",
        "  print('Done')\n",
        "!rm -rf /content/__MACOSX"
      ],
      "execution_count": null,
      "outputs": [
        {
          "output_type": "stream",
          "text": [
            "Done\n"
          ],
          "name": "stdout"
        }
      ]
    },
    {
      "cell_type": "code",
      "metadata": {
        "id": "WkR2MFKecUzY"
      },
      "source": [
        "indices = np.arange(9000)\n",
        "np.random.shuffle(indices)"
      ],
      "execution_count": null,
      "outputs": []
    },
    {
      "cell_type": "code",
      "metadata": {
        "colab": {
          "base_uri": "https://localhost:8080/"
        },
        "id": "YchqOHDCcYUM",
        "outputId": "7c75400e-83eb-4112-be39-b857f92c5548"
      },
      "source": [
        "print(indices)"
      ],
      "execution_count": null,
      "outputs": [
        {
          "output_type": "stream",
          "text": [
            "[1680 7506 5786 ...  318 8391 1853]\n"
          ],
          "name": "stdout"
        }
      ]
    },
    {
      "cell_type": "code",
      "metadata": {
        "id": "CtP0CKoccbbF"
      },
      "source": [
        "def load_data(dir_list, image_size):\n",
        "    \"\"\"\n",
        "    Read images, resize and normalize them. \n",
        "    Arguments:\n",
        "        dir_list: list of strings representing file directories.\n",
        "    Returns:\n",
        "        X: A numpy array with shape = (#_examples, image_width, image_height, #_channels)\n",
        "        y: A numpy array with shape = (#_examples, 1)\n",
        "    \"\"\"\n",
        "\n",
        "    # load all images in a directory\n",
        "    X = []\n",
        "    y = []\n",
        "    image_width, image_height = image_size\n",
        "    ini = r'/content/Mode1/'\n",
        "\n",
        "    for directory in dir_list:\n",
        "      path= ini+ directory\n",
        "      l= os.listdir(path)\n",
        "      count=1\n",
        "      for i in l: \n",
        "         \n",
        "        img = io.imread(path+ '/' +i, as_gray=True)\n",
        "        image = cv2.resize(img, dsize=(image_width, image_height), interpolation=cv2.INTER_CUBIC)\n",
        "        image = image / 255.0\n",
        "        image = cv2.resize(image, (64, 64))\n",
        "        X.append(image)\n",
        "        \n",
        "        if directory== 'Covid':\n",
        "          y.append([2])\n",
        "        elif directory=='Pneumonia':\n",
        "          y.append([1])\n",
        "        else:\n",
        "          y.append([0])\n",
        "\n",
        "\n",
        "    X = np.array(X)\n",
        "    y = np.array(y)\n",
        "    \n",
        "    \n",
        "    #print(indices)\n",
        "    X = X[indices]\n",
        "    y = y[indices]\n",
        "    \n",
        "\n",
        "    print(f'Number of examples is: {len(X)}')\n",
        "    print(f'X shape is: {X.shape}')\n",
        "    print(f'y shape is: {y.shape}')\n",
        "    print(X.shape[0])\n",
        "    \n",
        "    return X, y"
      ],
      "execution_count": null,
      "outputs": []
    },
    {
      "cell_type": "code",
      "metadata": {
        "colab": {
          "base_uri": "https://localhost:8080/"
        },
        "id": "QOl11eA-cd6C",
        "outputId": "439ee339-6ac3-45c1-c367-66dbe46bc75d"
      },
      "source": [
        "\n",
        "import random\n",
        "class2='Covid'\n",
        "class1='Pneumonia'\n",
        "class0='noFindings'\n",
        "\n",
        "IMG_WIDTH, IMG_HEIGHT = (64, 64)\n",
        "\n",
        "X1, y1 = load_data([class2,class1,class0], (IMG_WIDTH, IMG_HEIGHT))"
      ],
      "execution_count": null,
      "outputs": [
        {
          "output_type": "stream",
          "text": [
            "Number of examples is: 9000\n",
            "X shape is: (9000, 64, 64)\n",
            "y shape is: (9000, 1)\n",
            "9000\n"
          ],
          "name": "stdout"
        }
      ]
    },
    {
      "cell_type": "code",
      "metadata": {
        "colab": {
          "base_uri": "https://localhost:8080/"
        },
        "id": "2rBxvq-pcwWT",
        "outputId": "82c730a4-8289-4557-c720-5341a151636b"
      },
      "source": [
        "print(X1.shape)\n",
        "print(y1.shape)"
      ],
      "execution_count": null,
      "outputs": [
        {
          "output_type": "stream",
          "text": [
            "(9000, 64, 64)\n",
            "(9000, 1)\n"
          ],
          "name": "stdout"
        }
      ]
    },
    {
      "cell_type": "code",
      "metadata": {
        "colab": {
          "base_uri": "https://localhost:8080/"
        },
        "id": "MW-ia0_5c3sN",
        "outputId": "cf022ca8-f4f3-4bbc-e931-f34f0c3c57cc"
      },
      "source": [
        "X1 = X1.reshape(X1.shape[0],IMG_WIDTH,IMG_HEIGHT,1)\n",
        "print(X1.shape)"
      ],
      "execution_count": null,
      "outputs": [
        {
          "output_type": "stream",
          "text": [
            "(9000, 64, 64, 1)\n"
          ],
          "name": "stdout"
        }
      ]
    },
    {
      "cell_type": "markdown",
      "metadata": {
        "id": "_RgZEaStAtkX"
      },
      "source": [
        "## Mode-2"
      ]
    },
    {
      "cell_type": "code",
      "metadata": {
        "id": "HbbNVdSfsZr4",
        "colab": {
          "base_uri": "https://localhost:8080/"
        },
        "outputId": "ff7086b4-81b8-46d8-892a-c399f3778233"
      },
      "source": [
        "from zipfile import ZipFile\n",
        "file_name=\"/content/drive/MyDrive/Nemash/Dataset/Modes/Mode2.zip\"\n",
        "\n",
        "with ZipFile(file_name, 'r') as zip:\n",
        "  zip.extractall()\n",
        "  print('Done')\n",
        "!rm -rf /content/__MACOSX"
      ],
      "execution_count": null,
      "outputs": [
        {
          "output_type": "stream",
          "text": [
            "Done\n"
          ],
          "name": "stdout"
        }
      ]
    },
    {
      "cell_type": "code",
      "metadata": {
        "colab": {
          "base_uri": "https://localhost:8080/"
        },
        "id": "7oLs4Tnbc-Wo",
        "outputId": "0be2ab90-20fa-4a4d-af61-409988dd6c00"
      },
      "source": [
        "print(indices)"
      ],
      "execution_count": null,
      "outputs": [
        {
          "output_type": "stream",
          "text": [
            "[1680 7506 5786 ...  318 8391 1853]\n"
          ],
          "name": "stdout"
        }
      ]
    },
    {
      "cell_type": "code",
      "metadata": {
        "id": "muZVs203dB2O"
      },
      "source": [
        "def load_data2(dir_list, image_size):\n",
        "    \"\"\"\n",
        "    Read images, resize and normalize them. \n",
        "    Arguments:\n",
        "        dir_list: list of strings representing file directories.\n",
        "    Returns:\n",
        "        X: A numpy array with shape = (#_examples, image_width, image_height, #_channels)\n",
        "        y: A numpy array with shape = (#_examples, 1)\n",
        "    \"\"\"\n",
        "\n",
        "    # load all images in a directory\n",
        "    X = []\n",
        "    y = []\n",
        "    image_width, image_height = image_size\n",
        "    ini = r'/content/Mode2/'\n",
        "\n",
        "    for directory in dir_list:\n",
        "      path= ini+ directory\n",
        "      l= os.listdir(path)\n",
        "      count=1\n",
        "      for i in l: \n",
        "         \n",
        "        img = io.imread(path+ '/' +i, as_gray=True)\n",
        "        image = cv2.resize(img, dsize=(image_width, image_height), interpolation=cv2.INTER_CUBIC)\n",
        "        image = image / 255.0\n",
        "        image = cv2.resize(image, (64, 64))\n",
        "        X.append(image)\n",
        "        \n",
        "        if directory== 'Covid':\n",
        "          y.append([2])\n",
        "        elif directory=='Pneumonia':\n",
        "          y.append([1])\n",
        "        else:\n",
        "          y.append([0])\n",
        "\n",
        "\n",
        "    X = np.array(X)\n",
        "    y = np.array(y)\n",
        "    \n",
        "    \n",
        "    #print(indices)\n",
        "    X = X[indices]\n",
        "    y = y[indices]\n",
        "    \n",
        "\n",
        "    print(f'Number of examples is: {len(X)}')\n",
        "    print(f'X shape is: {X.shape}')\n",
        "    print(f'y shape is: {y.shape}')\n",
        "    print(X.shape[0])\n",
        "    \n",
        "    return X, y"
      ],
      "execution_count": null,
      "outputs": []
    },
    {
      "cell_type": "code",
      "metadata": {
        "colab": {
          "base_uri": "https://localhost:8080/"
        },
        "id": "rs808cOvdElR",
        "outputId": "e9c66c7b-c71d-4b22-f8ba-6fb19e5b5287"
      },
      "source": [
        "import random\n",
        "class2='Covid'\n",
        "class1='Pneumonia'\n",
        "class0='noFindings'\n",
        "\n",
        "IMG_WIDTH, IMG_HEIGHT = (64, 64)\n",
        "\n",
        "X2, y2 = load_data2([class2,class1,class0], (IMG_WIDTH, IMG_HEIGHT))"
      ],
      "execution_count": null,
      "outputs": [
        {
          "output_type": "stream",
          "text": [
            "Number of examples is: 9000\n",
            "X shape is: (9000, 64, 64)\n",
            "y shape is: (9000, 1)\n",
            "9000\n"
          ],
          "name": "stdout"
        }
      ]
    },
    {
      "cell_type": "code",
      "metadata": {
        "colab": {
          "base_uri": "https://localhost:8080/"
        },
        "id": "gEPfJ6IIdNZw",
        "outputId": "8344c9ea-2e74-4f51-fc1c-9ad636961f58"
      },
      "source": [
        "print(X2.shape)\n",
        "print(y2.shape)"
      ],
      "execution_count": null,
      "outputs": [
        {
          "output_type": "stream",
          "text": [
            "(9000, 64, 64)\n",
            "(9000, 1)\n"
          ],
          "name": "stdout"
        }
      ]
    },
    {
      "cell_type": "code",
      "metadata": {
        "colab": {
          "base_uri": "https://localhost:8080/"
        },
        "id": "wzclUzchdRV1",
        "outputId": "bf769d0f-736c-45af-b6ef-8ab1d56e5225"
      },
      "source": [
        "X2 = X2.reshape(X2.shape[0],IMG_WIDTH,IMG_HEIGHT,1)\n",
        "print(X2.shape)"
      ],
      "execution_count": null,
      "outputs": [
        {
          "output_type": "stream",
          "text": [
            "(9000, 64, 64, 1)\n"
          ],
          "name": "stdout"
        }
      ]
    },
    {
      "cell_type": "markdown",
      "metadata": {
        "id": "0F0lj0FTybAU"
      },
      "source": [
        "#Mode-3"
      ]
    },
    {
      "cell_type": "code",
      "metadata": {
        "colab": {
          "base_uri": "https://localhost:8080/"
        },
        "id": "9wKlofd5yaJJ",
        "outputId": "3f0fd582-e99b-484f-a1ee-244454be151a"
      },
      "source": [
        "from zipfile import ZipFile\n",
        "file_name=\"/content/drive/MyDrive/Nemash/Dataset/Modes/Mode3.zip\"\n",
        "\n",
        "with ZipFile(file_name, 'r') as zip:\n",
        "  zip.extractall()\n",
        "  print('Done')\n",
        "!rm -rf /content/__MACOSX"
      ],
      "execution_count": null,
      "outputs": [
        {
          "output_type": "stream",
          "text": [
            "Done\n"
          ],
          "name": "stdout"
        }
      ]
    },
    {
      "cell_type": "code",
      "metadata": {
        "colab": {
          "base_uri": "https://localhost:8080/"
        },
        "id": "K8F3Mxgfys_4",
        "outputId": "2a873967-a36a-46cd-e4fe-4f9324782fc0"
      },
      "source": [
        "print(indices)"
      ],
      "execution_count": null,
      "outputs": [
        {
          "output_type": "stream",
          "text": [
            "[1680 7506 5786 ...  318 8391 1853]\n"
          ],
          "name": "stdout"
        }
      ]
    },
    {
      "cell_type": "code",
      "metadata": {
        "id": "I9YsFFvVys8x"
      },
      "source": [
        "def load_data3(dir_list, image_size):\n",
        "    \"\"\"\n",
        "    Read images, resize and normalize them. \n",
        "    Arguments:\n",
        "        dir_list: list of strings representing file directories.\n",
        "    Returns:\n",
        "        X: A numpy array with shape = (#_examples, image_width, image_height, #_channels)\n",
        "        y: A numpy array with shape = (#_examples, 1)\n",
        "    \"\"\"\n",
        "\n",
        "    # load all images in a directory\n",
        "    X = []\n",
        "    y = []\n",
        "    image_width, image_height = image_size\n",
        "    ini = r'/content/Mode3/'\n",
        "\n",
        "    for directory in dir_list:\n",
        "      path= ini+ directory\n",
        "      l= os.listdir(path)\n",
        "      count=1\n",
        "      for i in l: \n",
        "         \n",
        "        img = io.imread(path+ '/' +i, as_gray=True)\n",
        "        image = cv2.resize(img, dsize=(image_width, image_height), interpolation=cv2.INTER_CUBIC)\n",
        "        image = image / 255.0\n",
        "        image = cv2.resize(image, (64, 64))\n",
        "        X.append(image)\n",
        "        \n",
        "        if directory== 'Covid':\n",
        "          y.append([2])\n",
        "        elif directory=='Pneumonia':\n",
        "          y.append([1])\n",
        "        else:\n",
        "          y.append([0])\n",
        "\n",
        "\n",
        "    X = np.array(X)\n",
        "    y = np.array(y)\n",
        "    \n",
        "    \n",
        "    #print(indices)\n",
        "    X = X[indices]\n",
        "    y = y[indices]\n",
        "    \n",
        "\n",
        "    print(f'Number of examples is: {len(X)}')\n",
        "    print(f'X shape is: {X.shape}')\n",
        "    print(f'y shape is: {y.shape}')\n",
        "    print(X.shape[0])\n",
        "    \n",
        "    return X, y"
      ],
      "execution_count": null,
      "outputs": []
    },
    {
      "cell_type": "code",
      "metadata": {
        "colab": {
          "base_uri": "https://localhost:8080/"
        },
        "id": "gqw6vlntys55",
        "outputId": "9228468e-e665-4509-ff3d-2ae185538451"
      },
      "source": [
        "import random\n",
        "class2='Covid'\n",
        "class1='Pneumonia'\n",
        "class0='noFindings'\n",
        "\n",
        "IMG_WIDTH, IMG_HEIGHT = (64, 64)\n",
        "\n",
        "X3, y3 = load_data3([class2,class1,class0], (IMG_WIDTH, IMG_HEIGHT))"
      ],
      "execution_count": null,
      "outputs": [
        {
          "output_type": "stream",
          "text": [
            "Number of examples is: 9000\n",
            "X shape is: (9000, 64, 64)\n",
            "y shape is: (9000, 1)\n",
            "9000\n"
          ],
          "name": "stdout"
        }
      ]
    },
    {
      "cell_type": "code",
      "metadata": {
        "colab": {
          "base_uri": "https://localhost:8080/"
        },
        "id": "Yta8P3G5zBu5",
        "outputId": "1ebbb1ae-dcb4-4ab1-8292-b1ba189c138e"
      },
      "source": [
        "print(X3.shape)\n",
        "print(y3.shape)"
      ],
      "execution_count": null,
      "outputs": [
        {
          "output_type": "stream",
          "text": [
            "(9000, 64, 64)\n",
            "(9000, 1)\n"
          ],
          "name": "stdout"
        }
      ]
    },
    {
      "cell_type": "code",
      "metadata": {
        "colab": {
          "base_uri": "https://localhost:8080/"
        },
        "id": "13EKLb5gzBd2",
        "outputId": "c5d296b5-42c8-45a9-c1a0-315f9261a2c4"
      },
      "source": [
        "X3 = X3.reshape(X3.shape[0],IMG_WIDTH,IMG_HEIGHT,1)\n",
        "print(X3.shape)"
      ],
      "execution_count": null,
      "outputs": [
        {
          "output_type": "stream",
          "text": [
            "(9000, 64, 64, 1)\n"
          ],
          "name": "stdout"
        }
      ]
    },
    {
      "cell_type": "markdown",
      "metadata": {
        "id": "IrF52AXkLX3K"
      },
      "source": [
        "#Mode-4\n"
      ]
    },
    {
      "cell_type": "code",
      "metadata": {
        "colab": {
          "base_uri": "https://localhost:8080/"
        },
        "id": "oUxn15OILjHF",
        "outputId": "80550072-f193-457f-820b-dc30e3d2fd35"
      },
      "source": [
        "from zipfile import ZipFile\n",
        "file_name=\"/content/drive/MyDrive/Nemash/Dataset/Modes/Mode4.zip\"\n",
        "\n",
        "with ZipFile(file_name, 'r') as zip:\n",
        "  zip.extractall()\n",
        "  print('Done')\n",
        "!rm -rf /content/__MACOSX"
      ],
      "execution_count": null,
      "outputs": [
        {
          "output_type": "stream",
          "text": [
            "Done\n"
          ],
          "name": "stdout"
        }
      ]
    },
    {
      "cell_type": "code",
      "metadata": {
        "id": "s6hy3Yg_LjDv"
      },
      "source": [
        "def load_data4(dir_list, image_size):\n",
        "    \"\"\"\n",
        "    Read images, resize and normalize them. \n",
        "    Arguments:\n",
        "        dir_list: list of strings representing file directories.\n",
        "    Returns:\n",
        "        X: A numpy array with shape = (#_examples, image_width, image_height, #_channels)\n",
        "        y: A numpy array with shape = (#_examples, 1)\n",
        "    \"\"\"\n",
        "\n",
        "    # load all images in a directory\n",
        "    X = []\n",
        "    y = []\n",
        "    image_width, image_height = image_size\n",
        "    ini = r'/content/Mode4/'\n",
        "\n",
        "    for directory in dir_list:\n",
        "      path= ini+ directory\n",
        "      l= os.listdir(path)\n",
        "      count=1\n",
        "      for i in l: \n",
        "         \n",
        "        img = io.imread(path+ '/' +i, as_gray=True)\n",
        "        image = cv2.resize(img, dsize=(image_width, image_height), interpolation=cv2.INTER_CUBIC)\n",
        "        image = image / 255.0\n",
        "        image = cv2.resize(image, (64, 64))\n",
        "        X.append(image)\n",
        "        \n",
        "        if directory== 'Covid':\n",
        "          y.append([2])\n",
        "        elif directory=='Pneumonia':\n",
        "          y.append([1])\n",
        "        else:\n",
        "          y.append([0])\n",
        "\n",
        "\n",
        "    X = np.array(X)\n",
        "    y = np.array(y)\n",
        "    \n",
        "    \n",
        "    #print(indices)\n",
        "    X = X[indices]\n",
        "    y = y[indices]\n",
        "    \n",
        "\n",
        "    print(f'Number of examples is: {len(X)}')\n",
        "    print(f'X shape is: {X.shape}')\n",
        "    print(f'y shape is: {y.shape}')\n",
        "    print(X.shape[0])\n",
        "    \n",
        "    return X, y"
      ],
      "execution_count": null,
      "outputs": []
    },
    {
      "cell_type": "code",
      "metadata": {
        "colab": {
          "base_uri": "https://localhost:8080/"
        },
        "id": "GHODQNhaLsSx",
        "outputId": "2235b324-75a2-4444-c93c-a42565523b87"
      },
      "source": [
        "import random\n",
        "class2='Covid'\n",
        "class1='Pneumonia'\n",
        "class0='noFindings'\n",
        "\n",
        "IMG_WIDTH, IMG_HEIGHT = (64, 64)\n",
        "\n",
        "X4, y4 = load_data4([class2,class1,class0], (IMG_WIDTH, IMG_HEIGHT))"
      ],
      "execution_count": null,
      "outputs": [
        {
          "output_type": "stream",
          "text": [
            "Number of examples is: 9000\n",
            "X shape is: (9000, 64, 64)\n",
            "y shape is: (9000, 1)\n",
            "9000\n"
          ],
          "name": "stdout"
        }
      ]
    },
    {
      "cell_type": "code",
      "metadata": {
        "colab": {
          "base_uri": "https://localhost:8080/"
        },
        "id": "QCc483HvLsOs",
        "outputId": "cb1f2f10-871e-4ba4-e134-d854bb6c8bed"
      },
      "source": [
        "print(X4.shape)\n",
        "print(y4.shape)"
      ],
      "execution_count": null,
      "outputs": [
        {
          "output_type": "stream",
          "text": [
            "(9000, 64, 64)\n",
            "(9000, 1)\n"
          ],
          "name": "stdout"
        }
      ]
    },
    {
      "cell_type": "code",
      "metadata": {
        "colab": {
          "base_uri": "https://localhost:8080/"
        },
        "id": "JRMBlsoWLsLw",
        "outputId": "ae6c9ea2-398a-4e0b-9d30-b8a6ad88b919"
      },
      "source": [
        "X4 = X4.reshape(X4.shape[0],IMG_WIDTH,IMG_HEIGHT,1)\n",
        "print(X4.shape)"
      ],
      "execution_count": null,
      "outputs": [
        {
          "output_type": "stream",
          "text": [
            "(9000, 64, 64, 1)\n"
          ],
          "name": "stdout"
        }
      ]
    },
    {
      "cell_type": "markdown",
      "metadata": {
        "id": "7rEMkKGgO88N"
      },
      "source": [
        "#Mode-5"
      ]
    },
    {
      "cell_type": "code",
      "metadata": {
        "colab": {
          "base_uri": "https://localhost:8080/"
        },
        "id": "sTZOmUKyO8mB",
        "outputId": "51cb70b7-346e-4d2a-841c-f9d56bf1d658"
      },
      "source": [
        "from zipfile import ZipFile\n",
        "file_name=\"/content/drive/MyDrive/Nemash/Dataset/Modes/Mode5.zip\"\n",
        "\n",
        "with ZipFile(file_name, 'r') as zip:\n",
        "  zip.extractall()\n",
        "  print('Done')\n",
        "!rm -rf /content/__MACOSX"
      ],
      "execution_count": null,
      "outputs": [
        {
          "output_type": "stream",
          "text": [
            "Done\n"
          ],
          "name": "stdout"
        }
      ]
    },
    {
      "cell_type": "code",
      "metadata": {
        "id": "uTu6aE-uPGDE"
      },
      "source": [
        "def load_data5(dir_list, image_size):\n",
        "    \"\"\"\n",
        "    Read images, resize and normalize them. \n",
        "    Arguments:\n",
        "        dir_list: list of strings representing file directories.\n",
        "    Returns:\n",
        "        X: A numpy array with shape = (#_examples, image_width, image_height, #_channels)\n",
        "        y: A numpy array with shape = (#_examples, 1)\n",
        "    \"\"\"\n",
        "\n",
        "    # load all images in a directory\n",
        "    X = []\n",
        "    y = []\n",
        "    image_width, image_height = image_size\n",
        "    ini = r'/content/Mode5/'\n",
        "\n",
        "    for directory in dir_list:\n",
        "      path= ini+ directory\n",
        "      l= os.listdir(path)\n",
        "      count=1\n",
        "      for i in l: \n",
        "         \n",
        "        img = io.imread(path+ '/' +i, as_gray=True)\n",
        "        image = cv2.resize(img, dsize=(image_width, image_height), interpolation=cv2.INTER_CUBIC)\n",
        "        image = image / 255.0\n",
        "        image = cv2.resize(image, (64, 64))\n",
        "        X.append(image)\n",
        "        \n",
        "        if directory== 'Covid':\n",
        "          y.append([2])\n",
        "        elif directory=='Pneumonia':\n",
        "          y.append([1])\n",
        "        else:\n",
        "          y.append([0])\n",
        "\n",
        "\n",
        "    X = np.array(X)\n",
        "    y = np.array(y)\n",
        "    \n",
        "    \n",
        "    #print(indices)\n",
        "    X = X[indices]\n",
        "    y = y[indices]\n",
        "    \n",
        "\n",
        "    print(f'Number of examples is: {len(X)}')\n",
        "    print(f'X shape is: {X.shape}')\n",
        "    print(f'y shape is: {y.shape}')\n",
        "    print(X.shape[0])\n",
        "    \n",
        "    return X, y"
      ],
      "execution_count": null,
      "outputs": []
    },
    {
      "cell_type": "code",
      "metadata": {
        "colab": {
          "base_uri": "https://localhost:8080/"
        },
        "id": "DzbY_2Q4PF_k",
        "outputId": "94dd27bf-dfb4-4866-a39b-be9de50feafc"
      },
      "source": [
        "import random\n",
        "class2='Covid'\n",
        "class1='Pneumonia'\n",
        "class0='noFindings'\n",
        "\n",
        "IMG_WIDTH, IMG_HEIGHT = (64, 64)\n",
        "\n",
        "X5, y5 = load_data5([class2,class1,class0], (IMG_WIDTH, IMG_HEIGHT))"
      ],
      "execution_count": null,
      "outputs": [
        {
          "output_type": "stream",
          "text": [
            "Number of examples is: 9000\n",
            "X shape is: (9000, 64, 64)\n",
            "y shape is: (9000, 1)\n",
            "9000\n"
          ],
          "name": "stdout"
        }
      ]
    },
    {
      "cell_type": "code",
      "metadata": {
        "colab": {
          "base_uri": "https://localhost:8080/"
        },
        "id": "3cafbe4PPF73",
        "outputId": "773dc65c-b493-4ec5-8165-55d657757792"
      },
      "source": [
        "print(X5.shape)\n",
        "print(y5.shape)"
      ],
      "execution_count": null,
      "outputs": [
        {
          "output_type": "stream",
          "text": [
            "(9000, 64, 64)\n",
            "(9000, 1)\n"
          ],
          "name": "stdout"
        }
      ]
    },
    {
      "cell_type": "code",
      "metadata": {
        "colab": {
          "base_uri": "https://localhost:8080/"
        },
        "id": "NhLV_RYBPQlY",
        "outputId": "993359bf-ad15-4706-e696-fe027584833b"
      },
      "source": [
        "X5 = X5.reshape(X5.shape[0],IMG_WIDTH,IMG_HEIGHT,1)\n",
        "print(X5.shape)"
      ],
      "execution_count": null,
      "outputs": [
        {
          "output_type": "stream",
          "text": [
            "(9000, 64, 64, 1)\n"
          ],
          "name": "stdout"
        }
      ]
    },
    {
      "cell_type": "markdown",
      "metadata": {
        "id": "xmbJs-WxdpjC"
      },
      "source": [
        "#Mode-6"
      ]
    },
    {
      "cell_type": "code",
      "metadata": {
        "colab": {
          "base_uri": "https://localhost:8080/"
        },
        "id": "LozQCW_Bdzje",
        "outputId": "c116065e-075e-4d50-e671-4e2b7d2b07ea"
      },
      "source": [
        "from zipfile import ZipFile\n",
        "file_name=\"/content/drive/MyDrive/Nemash/Dataset/Modes/Mode6.zip\"\n",
        "\n",
        "with ZipFile(file_name, 'r') as zip:\n",
        "  zip.extractall()\n",
        "  print('Done')\n",
        "!rm -rf /content/__MACOSX"
      ],
      "execution_count": null,
      "outputs": [
        {
          "output_type": "stream",
          "text": [
            "Done\n"
          ],
          "name": "stdout"
        }
      ]
    },
    {
      "cell_type": "code",
      "metadata": {
        "id": "-gyV0gnkdzgp"
      },
      "source": [
        "def load_data6(dir_list, image_size):\n",
        "    \"\"\"\n",
        "    Read images, resize and normalize them. \n",
        "    Arguments:\n",
        "        dir_list: list of strings representing file directories.\n",
        "    Returns:\n",
        "        X: A numpy array with shape = (#_examples, image_width, image_height, #_channels)\n",
        "        y: A numpy array with shape = (#_examples, 1)\n",
        "    \"\"\"\n",
        "\n",
        "    # load all images in a directory\n",
        "    X = []\n",
        "    y = []\n",
        "    image_width, image_height = image_size\n",
        "    ini = r'/content/Mode6/'\n",
        "\n",
        "    for directory in dir_list:\n",
        "      path= ini+ directory\n",
        "      l= os.listdir(path)\n",
        "      count=1\n",
        "      for i in l: \n",
        "         \n",
        "        img = io.imread(path+ '/' +i, as_gray=True)\n",
        "        image = cv2.resize(img, dsize=(image_width, image_height), interpolation=cv2.INTER_CUBIC)\n",
        "        image = image / 255.0\n",
        "        image = cv2.resize(image, (64, 64))\n",
        "        X.append(image)\n",
        "        \n",
        "        if directory== 'Covid':\n",
        "          y.append([2])\n",
        "        elif directory=='Pneumonia':\n",
        "          y.append([1])\n",
        "        else:\n",
        "          y.append([0])\n",
        "\n",
        "\n",
        "    X = np.array(X)\n",
        "    y = np.array(y)\n",
        "    \n",
        "    \n",
        "    #print(indices)\n",
        "    X = X[indices]\n",
        "    y = y[indices]\n",
        "    \n",
        "\n",
        "    print(f'Number of examples is: {len(X)}')\n",
        "    print(f'X shape is: {X.shape}')\n",
        "    print(f'y shape is: {y.shape}')\n",
        "    print(X.shape[0])\n",
        "    \n",
        "    return X, y"
      ],
      "execution_count": null,
      "outputs": []
    },
    {
      "cell_type": "code",
      "metadata": {
        "colab": {
          "base_uri": "https://localhost:8080/"
        },
        "id": "OMasKnmadzdp",
        "outputId": "88d42747-d7a6-4707-f742-2619cc7baa76"
      },
      "source": [
        "import random\n",
        "class2='Covid'\n",
        "class1='Pneumonia'\n",
        "class0='noFindings'\n",
        "\n",
        "IMG_WIDTH, IMG_HEIGHT = (64, 64)\n",
        "\n",
        "X6, y6 = load_data6([class2,class1,class0], (IMG_WIDTH, IMG_HEIGHT))"
      ],
      "execution_count": null,
      "outputs": [
        {
          "output_type": "stream",
          "text": [
            "Number of examples is: 9000\n",
            "X shape is: (9000, 64, 64)\n",
            "y shape is: (9000, 1)\n",
            "9000\n"
          ],
          "name": "stdout"
        }
      ]
    },
    {
      "cell_type": "code",
      "metadata": {
        "colab": {
          "base_uri": "https://localhost:8080/"
        },
        "id": "cP-SV3hPdzbk",
        "outputId": "ca9d986d-c574-4c25-c395-e8237713a574"
      },
      "source": [
        "print(X6.shape)\n",
        "print(y6.shape)"
      ],
      "execution_count": null,
      "outputs": [
        {
          "output_type": "stream",
          "text": [
            "(9000, 64, 64)\n",
            "(9000, 1)\n"
          ],
          "name": "stdout"
        }
      ]
    },
    {
      "cell_type": "code",
      "metadata": {
        "colab": {
          "base_uri": "https://localhost:8080/"
        },
        "id": "VJXRzOoIdzaY",
        "outputId": "d1bbc66b-0ee8-49b7-ed85-6fd12180ea03"
      },
      "source": [
        "X6 = X6.reshape(X6.shape[0],IMG_WIDTH,IMG_HEIGHT,1)\n",
        "print(X6.shape)"
      ],
      "execution_count": null,
      "outputs": [
        {
          "output_type": "stream",
          "text": [
            "(9000, 64, 64, 1)\n"
          ],
          "name": "stdout"
        }
      ]
    },
    {
      "cell_type": "markdown",
      "metadata": {
        "id": "O7kZpmFuoiYT"
      },
      "source": [
        "#Mode-7"
      ]
    },
    {
      "cell_type": "code",
      "metadata": {
        "colab": {
          "base_uri": "https://localhost:8080/"
        },
        "id": "pj8fAfH-om64",
        "outputId": "0dc93cc1-65be-4394-898a-261f047a44ac"
      },
      "source": [
        "from zipfile import ZipFile\n",
        "file_name=\"/content/drive/MyDrive/Nemash/Dataset/Modes/Mode7.zip\"\n",
        "\n",
        "with ZipFile(file_name, 'r') as zip:\n",
        "  zip.extractall()\n",
        "  print('Done')\n",
        "!rm -rf /content/__MACOSX"
      ],
      "execution_count": null,
      "outputs": [
        {
          "output_type": "stream",
          "text": [
            "Done\n"
          ],
          "name": "stdout"
        }
      ]
    },
    {
      "cell_type": "code",
      "metadata": {
        "id": "P8LliWqTom3Y"
      },
      "source": [
        "def load_data7(dir_list, image_size):\n",
        "    \"\"\"\n",
        "    Read images, resize and normalize them. \n",
        "    Arguments:\n",
        "        dir_list: list of strings representing file directories.\n",
        "    Returns:\n",
        "        X: A numpy array with shape = (#_examples, image_width, image_height, #_channels)\n",
        "        y: A numpy array with shape = (#_examples, 1)\n",
        "    \"\"\"\n",
        "\n",
        "    # load all images in a directory\n",
        "    X = []\n",
        "    y = []\n",
        "    image_width, image_height = image_size\n",
        "    ini = r'/content/Mode7/'\n",
        "\n",
        "    for directory in dir_list:\n",
        "      path= ini+ directory\n",
        "      l= os.listdir(path)\n",
        "      count=1\n",
        "      for i in l: \n",
        "         \n",
        "        img = io.imread(path+ '/' +i, as_gray=True)\n",
        "        image = cv2.resize(img, dsize=(image_width, image_height), interpolation=cv2.INTER_CUBIC)\n",
        "        image = image / 255.0\n",
        "        image = cv2.resize(image, (64, 64))\n",
        "        X.append(image)\n",
        "        \n",
        "        if directory== 'Covid':\n",
        "          y.append([2])\n",
        "        elif directory=='Pneumonia':\n",
        "          y.append([1])\n",
        "        else:\n",
        "          y.append([0])\n",
        "\n",
        "\n",
        "    X = np.array(X)\n",
        "    y = np.array(y)\n",
        "    \n",
        "    \n",
        "    #print(indices)\n",
        "    X = X[indices]\n",
        "    y = y[indices]\n",
        "    \n",
        "\n",
        "    print(f'Number of examples is: {len(X)}')\n",
        "    print(f'X shape is: {X.shape}')\n",
        "    print(f'y shape is: {y.shape}')\n",
        "    print(X.shape[0])\n",
        "    \n",
        "    return X, y"
      ],
      "execution_count": null,
      "outputs": []
    },
    {
      "cell_type": "code",
      "metadata": {
        "colab": {
          "base_uri": "https://localhost:8080/"
        },
        "id": "u0-tXDaLom1G",
        "outputId": "74150f8e-43d6-4aed-8a75-9c74e662c7c4"
      },
      "source": [
        "import random\n",
        "class2='Covid'\n",
        "class1='Pneumonia'\n",
        "class0='noFindings'\n",
        "\n",
        "IMG_WIDTH, IMG_HEIGHT = (64, 64)\n",
        "\n",
        "X7, y7 = load_data7([class2,class1,class0], (IMG_WIDTH, IMG_HEIGHT))"
      ],
      "execution_count": null,
      "outputs": [
        {
          "output_type": "stream",
          "text": [
            "Number of examples is: 9000\n",
            "X shape is: (9000, 64, 64)\n",
            "y shape is: (9000, 1)\n",
            "9000\n"
          ],
          "name": "stdout"
        }
      ]
    },
    {
      "cell_type": "code",
      "metadata": {
        "colab": {
          "base_uri": "https://localhost:8080/"
        },
        "id": "4wTd8dFdomyN",
        "outputId": "2641975d-6dcd-46ee-fd7f-8409cb7c8324"
      },
      "source": [
        "print(X7.shape)\n",
        "print(y7.shape)"
      ],
      "execution_count": null,
      "outputs": [
        {
          "output_type": "stream",
          "text": [
            "(9000, 64, 64)\n",
            "(9000, 1)\n"
          ],
          "name": "stdout"
        }
      ]
    },
    {
      "cell_type": "code",
      "metadata": {
        "colab": {
          "base_uri": "https://localhost:8080/"
        },
        "id": "_A-FEsbjo46R",
        "outputId": "cf5deab0-b4e1-466b-b18d-23da4267be1a"
      },
      "source": [
        "X7 = X7.reshape(X7.shape[0],IMG_WIDTH,IMG_HEIGHT,1)\n",
        "print(X7.shape)"
      ],
      "execution_count": null,
      "outputs": [
        {
          "output_type": "stream",
          "text": [
            "(9000, 64, 64, 1)\n"
          ],
          "name": "stdout"
        }
      ]
    },
    {
      "cell_type": "markdown",
      "metadata": {
        "id": "D-_6zFuoBneU"
      },
      "source": [
        "# Model with cross-validation"
      ]
    },
    {
      "cell_type": "code",
      "metadata": {
        "id": "wPFlQcPPgQp-"
      },
      "source": [
        "import tensorflow as tf\n",
        "from tensorflow.keras.datasets import cifar10\n",
        "from tensorflow.keras.preprocessing.image import ImageDataGenerator\n",
        "from tensorflow.keras.models import Sequential\n",
        "from tensorflow.keras.layers import Dense, Dropout, Activation, Flatten\n",
        "from tensorflow.keras.layers import Conv2D, MaxPooling2D"
      ],
      "execution_count": null,
      "outputs": []
    },
    {
      "cell_type": "code",
      "metadata": {
        "id": "7TPhJglygd1k"
      },
      "source": [
        "import tensorflow as tf\n",
        "from tensorflow.keras.datasets import cifar10\n",
        "from tensorflow.keras.preprocessing.image import ImageDataGenerator\n",
        "from tensorflow.keras.models import Sequential\n",
        "from tensorflow.keras.layers import Dense, Dropout, Activation, Flatten\n",
        "from tensorflow.keras.layers import Conv2D, MaxPooling2D\n",
        "\n",
        "from keras import Model \n",
        "from keras.layers.core import Dense, Activation\n",
        "from keras.layers import Conv2D, Conv1D, MaxPooling2D, Reshape, Concatenate, Dropout , MaxPooling1D, Flatten\n",
        "from keras.layers import Dense, Input\n",
        "from keras.layers import LSTM, Dense"
      ],
      "execution_count": null,
      "outputs": []
    },
    {
      "cell_type": "code",
      "metadata": {
        "id": "o6jcg_qhgfnP"
      },
      "source": [
        "  model_2D_1_i = Input((64, 64, 1))\n",
        "  model_2D_1 = Conv2D(64, kernel_size=(3, 3) , strides=(1,1), activation='relu')(model_2D_1_i)\n",
        "  model_2D_1 = BatchNormalization()(model_2D_1)\n",
        "  model_2D_1 = Dropout(0.1)(model_2D_1)\n",
        "  model_2D_1 = MaxPooling2D(pool_size=(2, 2), strides=(2, 2))(model_2D_1)\n",
        "  model_2D_1 = Conv2D(32, kernel_size=(3, 3) , strides=(1,1), activation='relu')(model_2D_1)\n",
        "  model_2D_1 = BatchNormalization()(model_2D_1)\n",
        "  model_2D_1 = Dropout(0.2)(model_2D_1)\n",
        "  model_2D_1 = MaxPooling2D(pool_size=(2, 2), strides=(2, 2))(model_2D_1)\n",
        "  model_2D_1 = Conv2D(16, kernel_size=(3, 3) , strides=(1,1), activation='relu')(model_2D_1)\n",
        "  model_2D_1 = BatchNormalization()(model_2D_1)\n",
        "  model_2D_1 = Dropout(0.3)(model_2D_1)\n",
        "  model_2D_1 = MaxPooling2D(pool_size=(2, 2), strides=(2, 2))(model_2D_1)\n",
        "  model_2D_1 = Flatten()(model_2D_1)"
      ],
      "execution_count": null,
      "outputs": []
    },
    {
      "cell_type": "code",
      "metadata": {
        "id": "IQ5wyc5Ighm4"
      },
      "source": [
        "  model_2D_2_i = Input((64, 64, 1))\n",
        "  model_2D_2 = Conv2D(64, kernel_size=(3, 3) , strides=(1,1), activation='relu')(model_2D_2_i)\n",
        "  model_2D_2 = BatchNormalization()(model_2D_2)\n",
        "  model_2D_2 = Dropout(0.1)(model_2D_2)\n",
        "  model_2D_2 = MaxPooling2D(pool_size=(2, 2), strides=(2, 2))(model_2D_2)\n",
        "  model_2D_2 = Conv2D(32, kernel_size=(3, 3) , strides=(1,1), activation='relu')(model_2D_2)\n",
        "  model_2D_2 = BatchNormalization()(model_2D_2)\n",
        "  model_2D_2 = Dropout(0.2)(model_2D_2)\n",
        "  model_2D_2 = MaxPooling2D(pool_size=(2, 2), strides=(2, 2))(model_2D_2)\n",
        "  model_2D_2 = Conv2D(16, kernel_size=(3, 3) , strides=(1,1), activation='relu')(model_2D_2)\n",
        "  model_2D_2 = BatchNormalization()(model_2D_2)\n",
        "  model_2D_2 = Dropout(0.3)(model_2D_2)\n",
        "  model_2D_2 = MaxPooling2D(pool_size=(2, 2), strides=(2, 2))(model_2D_2)\n",
        "  model_2D_2 = Flatten()(model_2D_2)"
      ],
      "execution_count": null,
      "outputs": []
    },
    {
      "cell_type": "code",
      "metadata": {
        "id": "YVnPv6rlx_RE"
      },
      "source": [
        "  model_2D_3_i = Input((64, 64, 1))\n",
        "  model_2D_3 = Conv2D(64, kernel_size=(3, 3) , strides=(1,1), activation='relu')(model_2D_3_i)\n",
        "  model_2D_3 = BatchNormalization()(model_2D_3)\n",
        "  model_2D_3 = Dropout(0.1)(model_2D_3)\n",
        "  model_2D_3 = MaxPooling2D(pool_size=(2, 2), strides=(2, 2))(model_2D_3)\n",
        "  model_2D_3 = Conv2D(32, kernel_size=(3, 3) , strides=(1,1), activation='relu')(model_2D_3)\n",
        "  model_2D_3 = BatchNormalization()(model_2D_3)\n",
        "  model_2D_3 = Dropout(0.2)(model_2D_3)\n",
        "  model_2D_3 = MaxPooling2D(pool_size=(2, 2), strides=(2, 2))(model_2D_3)\n",
        "  model_2D_3 = Conv2D(16, kernel_size=(3, 3) , strides=(1,1), activation='relu')(model_2D_3)\n",
        "  model_2D_3 = BatchNormalization()(model_2D_3)\n",
        "  model_2D_3 = Dropout(0.3)(model_2D_3)\n",
        "  model_2D_3 = MaxPooling2D(pool_size=(2, 2), strides=(2, 2))(model_2D_3)\n",
        "  model_2D_3 = Flatten()(model_2D_3)"
      ],
      "execution_count": null,
      "outputs": []
    },
    {
      "cell_type": "code",
      "metadata": {
        "id": "QXtdvF91L969"
      },
      "source": [
        "  model_2D_4_i = Input((64, 64, 1))\n",
        "  model_2D_4 = Conv2D(64, kernel_size=(3, 3) , strides=(1,1), activation='relu')(model_2D_4_i)\n",
        "  model_2D_4 = BatchNormalization()(model_2D_4)\n",
        "  model_2D_4 = Dropout(0.1)(model_2D_4)\n",
        "  model_2D_4 = MaxPooling2D(pool_size=(2, 2), strides=(2, 2))(model_2D_4)\n",
        "  model_2D_4 = Conv2D(32, kernel_size=(3, 3) , strides=(1,1), activation='relu')(model_2D_4)\n",
        "  model_2D_4 = BatchNormalization()(model_2D_4)\n",
        "  model_2D_4 = Dropout(0.2)(model_2D_4)\n",
        "  model_2D_4 = MaxPooling2D(pool_size=(2, 2), strides=(2, 2))(model_2D_4)\n",
        "  model_2D_4 = Conv2D(16, kernel_size=(3, 3) , strides=(1,1), activation='relu')(model_2D_4)\n",
        "  model_2D_4 = BatchNormalization()(model_2D_4)\n",
        "  model_2D_4 = Dropout(0.3)(model_2D_4)\n",
        "  model_2D_4 = MaxPooling2D(pool_size=(2, 2), strides=(2, 2))(model_2D_4)\n",
        "  model_2D_4 = Flatten()(model_2D_4)"
      ],
      "execution_count": null,
      "outputs": []
    },
    {
      "cell_type": "code",
      "metadata": {
        "id": "lMmvL6bPPh_v"
      },
      "source": [
        "  model_2D_5_i = Input((64, 64, 1))\n",
        "  model_2D_5 = Conv2D(64, kernel_size=(3, 3) , strides=(1,1), activation='relu')(model_2D_5_i)\n",
        "  model_2D_5 = BatchNormalization()(model_2D_5)\n",
        "  model_2D_5 = Dropout(0.1)(model_2D_5)\n",
        "  model_2D_5 = MaxPooling2D(pool_size=(2, 2), strides=(2, 2))(model_2D_5)\n",
        "  model_2D_5 = Conv2D(32, kernel_size=(3, 3) , strides=(1,1), activation='relu')(model_2D_5)\n",
        "  model_2D_5 = BatchNormalization()(model_2D_5)\n",
        "  model_2D_5 = Dropout(0.2)(model_2D_5)\n",
        "  model_2D_5 = MaxPooling2D(pool_size=(2, 2), strides=(2, 2))(model_2D_5)\n",
        "  model_2D_5 = Conv2D(16, kernel_size=(3, 3) , strides=(1,1), activation='relu')(model_2D_5)\n",
        "  model_2D_5 = BatchNormalization()(model_2D_5)\n",
        "  model_2D_5 = Dropout(0.3)(model_2D_5)\n",
        "  model_2D_5 = MaxPooling2D(pool_size=(2, 2), strides=(2, 2))(model_2D_5)\n",
        "  model_2D_5 = Flatten()(model_2D_5)"
      ],
      "execution_count": null,
      "outputs": []
    },
    {
      "cell_type": "code",
      "metadata": {
        "id": "xgKHUwRhevAd"
      },
      "source": [
        "  model_2D_6_i = Input((64, 64, 1))\n",
        "  model_2D_6 = Conv2D(64, kernel_size=(3, 3) , strides=(1,1), activation='relu')(model_2D_6_i)\n",
        "  model_2D_6 = BatchNormalization()(model_2D_6)\n",
        "  model_2D_6 = Dropout(0.1)(model_2D_6)\n",
        "  model_2D_6 = MaxPooling2D(pool_size=(2, 2), strides=(2, 2))(model_2D_6)\n",
        "  model_2D_6 = Conv2D(32, kernel_size=(3, 3) , strides=(1,1), activation='relu')(model_2D_6)\n",
        "  model_2D_6 = BatchNormalization()(model_2D_6)\n",
        "  model_2D_6 = Dropout(0.2)(model_2D_6)\n",
        "  model_2D_6 = MaxPooling2D(pool_size=(2, 2), strides=(2, 2))(model_2D_6)\n",
        "  model_2D_6 = Conv2D(16, kernel_size=(3, 3) , strides=(1,1), activation='relu')(model_2D_6)\n",
        "  model_2D_6 = BatchNormalization()(model_2D_6)\n",
        "  model_2D_6 = Dropout(0.3)(model_2D_6)\n",
        "  model_2D_6 = MaxPooling2D(pool_size=(2, 2), strides=(2, 2))(model_2D_6)\n",
        "  model_2D_6 = Flatten()(model_2D_6)"
      ],
      "execution_count": null,
      "outputs": []
    },
    {
      "cell_type": "code",
      "metadata": {
        "id": "wPPBM0n5pBUw"
      },
      "source": [
        "  model_2D_7_i = Input((64, 64, 1))\n",
        "  model_2D_7 = Conv2D(64, kernel_size=(3, 3) , strides=(1,1), activation='relu')(model_2D_7_i)\n",
        "  model_2D_7 = BatchNormalization()(model_2D_7)\n",
        "  model_2D_7 = Dropout(0.1)(model_2D_7)\n",
        "  model_2D_7 = MaxPooling2D(pool_size=(2, 2), strides=(2, 2))(model_2D_7)\n",
        "  model_2D_7 = Conv2D(32, kernel_size=(3, 3) , strides=(1,1), activation='relu')(model_2D_7)\n",
        "  model_2D_7 = BatchNormalization()(model_2D_7)\n",
        "  model_2D_7 = Dropout(0.2)(model_2D_7)\n",
        "  model_2D_7 = MaxPooling2D(pool_size=(2, 2), strides=(2, 2))(model_2D_7)\n",
        "  model_2D_7 = Conv2D(16, kernel_size=(3, 3) , strides=(1,1), activation='relu')(model_2D_7)\n",
        "  model_2D_7 = BatchNormalization()(model_2D_7)\n",
        "  model_2D_7 = Dropout(0.3)(model_2D_7)\n",
        "  model_2D_7 = MaxPooling2D(pool_size=(2, 2), strides=(2, 2))(model_2D_7)\n",
        "  model_2D_7 = Flatten()(model_2D_7)"
      ],
      "execution_count": null,
      "outputs": []
    },
    {
      "cell_type": "code",
      "metadata": {
        "id": "u_8TzEc4gn-9"
      },
      "source": [
        "merged = Concatenate()([model_2D_4, model_2D_5, model_2D_6, model_2D_7])\n",
        "dense1 = Dense(200, activation='relu')(merged)\n",
        "dense2 = Dense(20, activation='relu')(dense1)\n",
        "outputs = Dense(3, activation='softmax')(dense2)\n",
        "model = Model(inputs=[model_2D_4_i, model_2D_5_i, model_2D_6_i, model_2D_7_i], outputs=outputs)"
      ],
      "execution_count": null,
      "outputs": []
    },
    {
      "cell_type": "code",
      "metadata": {
        "id": "ESlgZ6kLg2Hj"
      },
      "source": [
        "model.compile(optimizer='adam', loss='sparse_categorical_crossentropy', metrics=['accuracy'])"
      ],
      "execution_count": null,
      "outputs": []
    },
    {
      "cell_type": "code",
      "metadata": {
        "colab": {
          "base_uri": "https://localhost:8080/"
        },
        "id": "Y53ksTOVhApk",
        "outputId": "6cdef77d-5db9-4d7d-8d74-37961ecc9437"
      },
      "source": [
        "model.summary()"
      ],
      "execution_count": null,
      "outputs": [
        {
          "output_type": "stream",
          "text": [
            "Model: \"model\"\n",
            "__________________________________________________________________________________________________\n",
            "Layer (type)                    Output Shape         Param #     Connected to                     \n",
            "==================================================================================================\n",
            "input_1 (InputLayer)            [(None, 64, 64, 1)]  0                                            \n",
            "__________________________________________________________________________________________________\n",
            "input_2 (InputLayer)            [(None, 64, 64, 1)]  0                                            \n",
            "__________________________________________________________________________________________________\n",
            "input_3 (InputLayer)            [(None, 64, 64, 1)]  0                                            \n",
            "__________________________________________________________________________________________________\n",
            "input_4 (InputLayer)            [(None, 64, 64, 1)]  0                                            \n",
            "__________________________________________________________________________________________________\n",
            "input_5 (InputLayer)            [(None, 64, 64, 1)]  0                                            \n",
            "__________________________________________________________________________________________________\n",
            "input_6 (InputLayer)            [(None, 64, 64, 1)]  0                                            \n",
            "__________________________________________________________________________________________________\n",
            "input_7 (InputLayer)            [(None, 64, 64, 1)]  0                                            \n",
            "__________________________________________________________________________________________________\n",
            "conv2d (Conv2D)                 (None, 62, 62, 64)   640         input_1[0][0]                    \n",
            "__________________________________________________________________________________________________\n",
            "conv2d_3 (Conv2D)               (None, 62, 62, 64)   640         input_2[0][0]                    \n",
            "__________________________________________________________________________________________________\n",
            "conv2d_6 (Conv2D)               (None, 62, 62, 64)   640         input_3[0][0]                    \n",
            "__________________________________________________________________________________________________\n",
            "conv2d_9 (Conv2D)               (None, 62, 62, 64)   640         input_4[0][0]                    \n",
            "__________________________________________________________________________________________________\n",
            "conv2d_12 (Conv2D)              (None, 62, 62, 64)   640         input_5[0][0]                    \n",
            "__________________________________________________________________________________________________\n",
            "conv2d_15 (Conv2D)              (None, 62, 62, 64)   640         input_6[0][0]                    \n",
            "__________________________________________________________________________________________________\n",
            "conv2d_18 (Conv2D)              (None, 62, 62, 64)   640         input_7[0][0]                    \n",
            "__________________________________________________________________________________________________\n",
            "batch_normalization (BatchNorma (None, 62, 62, 64)   256         conv2d[0][0]                     \n",
            "__________________________________________________________________________________________________\n",
            "batch_normalization_3 (BatchNor (None, 62, 62, 64)   256         conv2d_3[0][0]                   \n",
            "__________________________________________________________________________________________________\n",
            "batch_normalization_6 (BatchNor (None, 62, 62, 64)   256         conv2d_6[0][0]                   \n",
            "__________________________________________________________________________________________________\n",
            "batch_normalization_9 (BatchNor (None, 62, 62, 64)   256         conv2d_9[0][0]                   \n",
            "__________________________________________________________________________________________________\n",
            "batch_normalization_12 (BatchNo (None, 62, 62, 64)   256         conv2d_12[0][0]                  \n",
            "__________________________________________________________________________________________________\n",
            "batch_normalization_15 (BatchNo (None, 62, 62, 64)   256         conv2d_15[0][0]                  \n",
            "__________________________________________________________________________________________________\n",
            "batch_normalization_18 (BatchNo (None, 62, 62, 64)   256         conv2d_18[0][0]                  \n",
            "__________________________________________________________________________________________________\n",
            "dropout (Dropout)               (None, 62, 62, 64)   0           batch_normalization[0][0]        \n",
            "__________________________________________________________________________________________________\n",
            "dropout_3 (Dropout)             (None, 62, 62, 64)   0           batch_normalization_3[0][0]      \n",
            "__________________________________________________________________________________________________\n",
            "dropout_6 (Dropout)             (None, 62, 62, 64)   0           batch_normalization_6[0][0]      \n",
            "__________________________________________________________________________________________________\n",
            "dropout_9 (Dropout)             (None, 62, 62, 64)   0           batch_normalization_9[0][0]      \n",
            "__________________________________________________________________________________________________\n",
            "dropout_12 (Dropout)            (None, 62, 62, 64)   0           batch_normalization_12[0][0]     \n",
            "__________________________________________________________________________________________________\n",
            "dropout_15 (Dropout)            (None, 62, 62, 64)   0           batch_normalization_15[0][0]     \n",
            "__________________________________________________________________________________________________\n",
            "dropout_18 (Dropout)            (None, 62, 62, 64)   0           batch_normalization_18[0][0]     \n",
            "__________________________________________________________________________________________________\n",
            "max_pooling2d (MaxPooling2D)    (None, 31, 31, 64)   0           dropout[0][0]                    \n",
            "__________________________________________________________________________________________________\n",
            "max_pooling2d_3 (MaxPooling2D)  (None, 31, 31, 64)   0           dropout_3[0][0]                  \n",
            "__________________________________________________________________________________________________\n",
            "max_pooling2d_6 (MaxPooling2D)  (None, 31, 31, 64)   0           dropout_6[0][0]                  \n",
            "__________________________________________________________________________________________________\n",
            "max_pooling2d_9 (MaxPooling2D)  (None, 31, 31, 64)   0           dropout_9[0][0]                  \n",
            "__________________________________________________________________________________________________\n",
            "max_pooling2d_12 (MaxPooling2D) (None, 31, 31, 64)   0           dropout_12[0][0]                 \n",
            "__________________________________________________________________________________________________\n",
            "max_pooling2d_15 (MaxPooling2D) (None, 31, 31, 64)   0           dropout_15[0][0]                 \n",
            "__________________________________________________________________________________________________\n",
            "max_pooling2d_18 (MaxPooling2D) (None, 31, 31, 64)   0           dropout_18[0][0]                 \n",
            "__________________________________________________________________________________________________\n",
            "conv2d_1 (Conv2D)               (None, 29, 29, 32)   18464       max_pooling2d[0][0]              \n",
            "__________________________________________________________________________________________________\n",
            "conv2d_4 (Conv2D)               (None, 29, 29, 32)   18464       max_pooling2d_3[0][0]            \n",
            "__________________________________________________________________________________________________\n",
            "conv2d_7 (Conv2D)               (None, 29, 29, 32)   18464       max_pooling2d_6[0][0]            \n",
            "__________________________________________________________________________________________________\n",
            "conv2d_10 (Conv2D)              (None, 29, 29, 32)   18464       max_pooling2d_9[0][0]            \n",
            "__________________________________________________________________________________________________\n",
            "conv2d_13 (Conv2D)              (None, 29, 29, 32)   18464       max_pooling2d_12[0][0]           \n",
            "__________________________________________________________________________________________________\n",
            "conv2d_16 (Conv2D)              (None, 29, 29, 32)   18464       max_pooling2d_15[0][0]           \n",
            "__________________________________________________________________________________________________\n",
            "conv2d_19 (Conv2D)              (None, 29, 29, 32)   18464       max_pooling2d_18[0][0]           \n",
            "__________________________________________________________________________________________________\n",
            "batch_normalization_1 (BatchNor (None, 29, 29, 32)   128         conv2d_1[0][0]                   \n",
            "__________________________________________________________________________________________________\n",
            "batch_normalization_4 (BatchNor (None, 29, 29, 32)   128         conv2d_4[0][0]                   \n",
            "__________________________________________________________________________________________________\n",
            "batch_normalization_7 (BatchNor (None, 29, 29, 32)   128         conv2d_7[0][0]                   \n",
            "__________________________________________________________________________________________________\n",
            "batch_normalization_10 (BatchNo (None, 29, 29, 32)   128         conv2d_10[0][0]                  \n",
            "__________________________________________________________________________________________________\n",
            "batch_normalization_13 (BatchNo (None, 29, 29, 32)   128         conv2d_13[0][0]                  \n",
            "__________________________________________________________________________________________________\n",
            "batch_normalization_16 (BatchNo (None, 29, 29, 32)   128         conv2d_16[0][0]                  \n",
            "__________________________________________________________________________________________________\n",
            "batch_normalization_19 (BatchNo (None, 29, 29, 32)   128         conv2d_19[0][0]                  \n",
            "__________________________________________________________________________________________________\n",
            "dropout_1 (Dropout)             (None, 29, 29, 32)   0           batch_normalization_1[0][0]      \n",
            "__________________________________________________________________________________________________\n",
            "dropout_4 (Dropout)             (None, 29, 29, 32)   0           batch_normalization_4[0][0]      \n",
            "__________________________________________________________________________________________________\n",
            "dropout_7 (Dropout)             (None, 29, 29, 32)   0           batch_normalization_7[0][0]      \n",
            "__________________________________________________________________________________________________\n",
            "dropout_10 (Dropout)            (None, 29, 29, 32)   0           batch_normalization_10[0][0]     \n",
            "__________________________________________________________________________________________________\n",
            "dropout_13 (Dropout)            (None, 29, 29, 32)   0           batch_normalization_13[0][0]     \n",
            "__________________________________________________________________________________________________\n",
            "dropout_16 (Dropout)            (None, 29, 29, 32)   0           batch_normalization_16[0][0]     \n",
            "__________________________________________________________________________________________________\n",
            "dropout_19 (Dropout)            (None, 29, 29, 32)   0           batch_normalization_19[0][0]     \n",
            "__________________________________________________________________________________________________\n",
            "max_pooling2d_1 (MaxPooling2D)  (None, 14, 14, 32)   0           dropout_1[0][0]                  \n",
            "__________________________________________________________________________________________________\n",
            "max_pooling2d_4 (MaxPooling2D)  (None, 14, 14, 32)   0           dropout_4[0][0]                  \n",
            "__________________________________________________________________________________________________\n",
            "max_pooling2d_7 (MaxPooling2D)  (None, 14, 14, 32)   0           dropout_7[0][0]                  \n",
            "__________________________________________________________________________________________________\n",
            "max_pooling2d_10 (MaxPooling2D) (None, 14, 14, 32)   0           dropout_10[0][0]                 \n",
            "__________________________________________________________________________________________________\n",
            "max_pooling2d_13 (MaxPooling2D) (None, 14, 14, 32)   0           dropout_13[0][0]                 \n",
            "__________________________________________________________________________________________________\n",
            "max_pooling2d_16 (MaxPooling2D) (None, 14, 14, 32)   0           dropout_16[0][0]                 \n",
            "__________________________________________________________________________________________________\n",
            "max_pooling2d_19 (MaxPooling2D) (None, 14, 14, 32)   0           dropout_19[0][0]                 \n",
            "__________________________________________________________________________________________________\n",
            "conv2d_2 (Conv2D)               (None, 12, 12, 16)   4624        max_pooling2d_1[0][0]            \n",
            "__________________________________________________________________________________________________\n",
            "conv2d_5 (Conv2D)               (None, 12, 12, 16)   4624        max_pooling2d_4[0][0]            \n",
            "__________________________________________________________________________________________________\n",
            "conv2d_8 (Conv2D)               (None, 12, 12, 16)   4624        max_pooling2d_7[0][0]            \n",
            "__________________________________________________________________________________________________\n",
            "conv2d_11 (Conv2D)              (None, 12, 12, 16)   4624        max_pooling2d_10[0][0]           \n",
            "__________________________________________________________________________________________________\n",
            "conv2d_14 (Conv2D)              (None, 12, 12, 16)   4624        max_pooling2d_13[0][0]           \n",
            "__________________________________________________________________________________________________\n",
            "conv2d_17 (Conv2D)              (None, 12, 12, 16)   4624        max_pooling2d_16[0][0]           \n",
            "__________________________________________________________________________________________________\n",
            "conv2d_20 (Conv2D)              (None, 12, 12, 16)   4624        max_pooling2d_19[0][0]           \n",
            "__________________________________________________________________________________________________\n",
            "batch_normalization_2 (BatchNor (None, 12, 12, 16)   64          conv2d_2[0][0]                   \n",
            "__________________________________________________________________________________________________\n",
            "batch_normalization_5 (BatchNor (None, 12, 12, 16)   64          conv2d_5[0][0]                   \n",
            "__________________________________________________________________________________________________\n",
            "batch_normalization_8 (BatchNor (None, 12, 12, 16)   64          conv2d_8[0][0]                   \n",
            "__________________________________________________________________________________________________\n",
            "batch_normalization_11 (BatchNo (None, 12, 12, 16)   64          conv2d_11[0][0]                  \n",
            "__________________________________________________________________________________________________\n",
            "batch_normalization_14 (BatchNo (None, 12, 12, 16)   64          conv2d_14[0][0]                  \n",
            "__________________________________________________________________________________________________\n",
            "batch_normalization_17 (BatchNo (None, 12, 12, 16)   64          conv2d_17[0][0]                  \n",
            "__________________________________________________________________________________________________\n",
            "batch_normalization_20 (BatchNo (None, 12, 12, 16)   64          conv2d_20[0][0]                  \n",
            "__________________________________________________________________________________________________\n",
            "dropout_2 (Dropout)             (None, 12, 12, 16)   0           batch_normalization_2[0][0]      \n",
            "__________________________________________________________________________________________________\n",
            "dropout_5 (Dropout)             (None, 12, 12, 16)   0           batch_normalization_5[0][0]      \n",
            "__________________________________________________________________________________________________\n",
            "dropout_8 (Dropout)             (None, 12, 12, 16)   0           batch_normalization_8[0][0]      \n",
            "__________________________________________________________________________________________________\n",
            "dropout_11 (Dropout)            (None, 12, 12, 16)   0           batch_normalization_11[0][0]     \n",
            "__________________________________________________________________________________________________\n",
            "dropout_14 (Dropout)            (None, 12, 12, 16)   0           batch_normalization_14[0][0]     \n",
            "__________________________________________________________________________________________________\n",
            "dropout_17 (Dropout)            (None, 12, 12, 16)   0           batch_normalization_17[0][0]     \n",
            "__________________________________________________________________________________________________\n",
            "dropout_20 (Dropout)            (None, 12, 12, 16)   0           batch_normalization_20[0][0]     \n",
            "__________________________________________________________________________________________________\n",
            "max_pooling2d_2 (MaxPooling2D)  (None, 6, 6, 16)     0           dropout_2[0][0]                  \n",
            "__________________________________________________________________________________________________\n",
            "max_pooling2d_5 (MaxPooling2D)  (None, 6, 6, 16)     0           dropout_5[0][0]                  \n",
            "__________________________________________________________________________________________________\n",
            "max_pooling2d_8 (MaxPooling2D)  (None, 6, 6, 16)     0           dropout_8[0][0]                  \n",
            "__________________________________________________________________________________________________\n",
            "max_pooling2d_11 (MaxPooling2D) (None, 6, 6, 16)     0           dropout_11[0][0]                 \n",
            "__________________________________________________________________________________________________\n",
            "max_pooling2d_14 (MaxPooling2D) (None, 6, 6, 16)     0           dropout_14[0][0]                 \n",
            "__________________________________________________________________________________________________\n",
            "max_pooling2d_17 (MaxPooling2D) (None, 6, 6, 16)     0           dropout_17[0][0]                 \n",
            "__________________________________________________________________________________________________\n",
            "max_pooling2d_20 (MaxPooling2D) (None, 6, 6, 16)     0           dropout_20[0][0]                 \n",
            "__________________________________________________________________________________________________\n",
            "flatten (Flatten)               (None, 576)          0           max_pooling2d_2[0][0]            \n",
            "__________________________________________________________________________________________________\n",
            "flatten_1 (Flatten)             (None, 576)          0           max_pooling2d_5[0][0]            \n",
            "__________________________________________________________________________________________________\n",
            "flatten_2 (Flatten)             (None, 576)          0           max_pooling2d_8[0][0]            \n",
            "__________________________________________________________________________________________________\n",
            "flatten_3 (Flatten)             (None, 576)          0           max_pooling2d_11[0][0]           \n",
            "__________________________________________________________________________________________________\n",
            "flatten_4 (Flatten)             (None, 576)          0           max_pooling2d_14[0][0]           \n",
            "__________________________________________________________________________________________________\n",
            "flatten_5 (Flatten)             (None, 576)          0           max_pooling2d_17[0][0]           \n",
            "__________________________________________________________________________________________________\n",
            "flatten_6 (Flatten)             (None, 576)          0           max_pooling2d_20[0][0]           \n",
            "__________________________________________________________________________________________________\n",
            "concatenate (Concatenate)       (None, 4032)         0           flatten[0][0]                    \n",
            "                                                                 flatten_1[0][0]                  \n",
            "                                                                 flatten_2[0][0]                  \n",
            "                                                                 flatten_3[0][0]                  \n",
            "                                                                 flatten_4[0][0]                  \n",
            "                                                                 flatten_5[0][0]                  \n",
            "                                                                 flatten_6[0][0]                  \n",
            "__________________________________________________________________________________________________\n",
            "dense (Dense)                   (None, 200)          806600      concatenate[0][0]                \n",
            "__________________________________________________________________________________________________\n",
            "dense_1 (Dense)                 (None, 20)           4020        dense[0][0]                      \n",
            "__________________________________________________________________________________________________\n",
            "dense_2 (Dense)                 (None, 3)            63          dense_1[0][0]                    \n",
            "==================================================================================================\n",
            "Total params: 979,915\n",
            "Trainable params: 978,347\n",
            "Non-trainable params: 1,568\n",
            "__________________________________________________________________________________________________\n"
          ],
          "name": "stdout"
        }
      ]
    },
    {
      "cell_type": "code",
      "metadata": {
        "id": "pp8eFOErcE8w"
      },
      "source": [
        "import pandas as pd\n",
        "import os\n",
        "import numpy as np\n",
        "from sklearn import metrics\n",
        "from scipy.stats import zscore\n",
        "from sklearn.model_selection import KFold\n",
        "from tensorflow.keras.models import Sequential\n",
        "from tensorflow.keras.layers import Dense, Activation\n",
        "from matplotlib import pyplot\n",
        "from sklearn.metrics import precision_score\n",
        "from sklearn.metrics import recall_score\n",
        "from sklearn.metrics import f1_score\n",
        "from sklearn.metrics import classification_report\n",
        "from tensorflow.keras.callbacks import EarlyStopping"
      ],
      "execution_count": null,
      "outputs": []
    },
    {
      "cell_type": "code",
      "metadata": {
        "id": "RuZMTwiBbTBW"
      },
      "source": [
        "fold = 1\n",
        "\n",
        " \n",
        "def get_score(model, X_train1, X_test1, y_train1, y_test1, X_train2, X_test2, y_train2, y_test2,  X_train3, X_test3, y_train3, y_test3, X_train4, X_test4, y_train4, y_test4, X_train5, X_test5, y_train5, y_test5, X_train6, X_test6, y_train6, y_test6, X_train7, X_test7, y_train7, y_test7):\n",
        " \n",
        " print(\"Fold number-\", fold)\n",
        "\n",
        " \n",
        " history = model.fit([X_train1, X_train2, X_train3, X_train4, X_train5, X_train6, X_train7], y_train1,validation_split=0.25, batch_size=64, epochs=25)\n",
        " \n",
        " #return model.score(X_test, y_test)\n",
        " train_loss, train_accuracy = model.evaluate([X_train1, X_train2, X_train3, X_train4, X_train5, X_train6, X_train7], y_train1, verbose=0)\n",
        " \n",
        " test_loss, test_accuracy = model.evaluate([X_test1, X_test2, X_test3, X_test4, X_test5, X_test6, X_test7], y_test1, verbose=0)\n",
        "\n",
        " predictions= []\n",
        " pred = model.predict([X_test1, X_test2, X_test3, X_test4, X_test5, X_test6, X_test7])\n",
        " for i in range(3000): \n",
        "  value = [np.argmax(pred[i])]\n",
        "  predictions.append(value)\n",
        " predictions = np.array(predictions)\n",
        "\n",
        " #score = np.sqrt(metrics.mean_squared_error(predictions,y_test1))\n",
        " #print(f\"Fold score (RMSE): {score}\")\n",
        "\n",
        " #precision = precision_score(y_test1, predictions, average='micro')\n",
        " #print(\"Fold precision: \", precision)\n",
        " \n",
        " #recall = recall_score(y_test1, predictions, average='micro')\n",
        " #print(\"Fold recall\", recall)\n",
        "\n",
        " #score = f1_score(y_test1, predictions, average='micro')\n",
        " #print('Fold F-Measure: %.3f' % score)\n",
        "\n",
        " print(metrics.classification_report(y_test1, predictions, digits=3))\n",
        "\n",
        "\n",
        " print(metrics.confusion_matrix(y_test1, predictions))\n",
        "\n",
        " loss_train = np.array(history.history['accuracy'])\n",
        " loss_val = np.array(history.history['val_accuracy'])\n",
        " ran = loss_train.shape[0]\n",
        " epochs = range(1,ran + 1)\n",
        " plt.plot(epochs, loss_train, 'g', label='Training accuracy')\n",
        " plt.plot(epochs, loss_val, 'b', label='validation accuracy')\n",
        " plt.title('Training and Validation accuracy')\n",
        " plt.xlabel('Epochs')\n",
        " plt.ylabel('Accuracy')\n",
        " #plt.xlim(1, 70)\n",
        " plt.ylim(0, 1.1)\n",
        " plt.legend()\n",
        " plt.show()\n",
        " \n",
        " \n",
        " return train_accuracy, test_accuracy"
      ],
      "execution_count": null,
      "outputs": []
    },
    {
      "cell_type": "code",
      "metadata": {
        "id": "kig-TQCUfzlF"
      },
      "source": [
        "import time"
      ],
      "execution_count": null,
      "outputs": []
    },
    {
      "cell_type": "code",
      "metadata": {
        "colab": {
          "base_uri": "https://localhost:8080/",
          "height": 1000
        },
        "id": "WBeFdSRP4eDd",
        "outputId": "7a2ab643-0bc6-42e8-c6ec-fd53520a7575"
      },
      "source": [
        "fold = 1\n",
        "from sklearn.model_selection import StratifiedKFold\n",
        " \n",
        "folds = StratifiedKFold(n_splits=5)\n",
        " \n",
        "scores_model_test = []\n",
        " \n",
        "scores_model_train = []\n",
        " \n",
        "begin = time.time()\n",
        "for train_index, test_index in folds.split(X1,y1):\n",
        "\n",
        " X_train1, X_test1, y_train1, y_test1 = X1[train_index], X1[test_index], y1[train_index], y1[test_index]\n",
        " \n",
        " X_train2, X_test2, y_train2, y_test2 = X2[train_index], X2[test_index], y2[train_index], y2[test_index]\n",
        "\n",
        " X_train3, X_test3, y_train3, y_test3 = X3[train_index], X3[test_index], y3[train_index], y3[test_index]\n",
        "\n",
        " X_train4, X_test4, y_train4, y_test4 = X4[train_index], X4[test_index], y4[train_index], y4[test_index]\n",
        "\n",
        " X_train5, X_test5, y_train5, y_test5 = X5[train_index], X5[test_index], y5[train_index], y5[test_index]\n",
        "\n",
        " X_train6, X_test6, y_train6, y_test6 = X6[train_index], X6[test_index], y6[train_index], y6[test_index]\n",
        "\n",
        " X_train7, X_test7, y_train7, y_test7 = X7[train_index], X6[test_index], y6[train_index], y6[test_index]\n",
        " \n",
        " \n",
        " tracc, tacc = get_score( model,X_train1, X_test1, y_train1, y_test1, X_train2, X_test2, y_train2, y_test2, X_train3, X_test3, y_train3, y_test3,  X_train4, X_test4, y_train4, y_test4, X_train5, X_test5, y_train5, y_test5, X_train6, X_test6, y_train6, y_test6, X_train7, X_test7, y_train7, y_test7)\n",
        " \n",
        " scores_model_test.append(tacc)\n",
        " \n",
        " scores_model_train.append(tracc)\n",
        " \n",
        " fold = fold + 1\n",
        "\n",
        "time.sleep(1)\n",
        "end = time.time()\n",
        "print(f\"Total runtime of the program is {end - begin}\")"
      ],
      "execution_count": null,
      "outputs": [
        {
          "output_type": "stream",
          "text": [
            "Fold number- 1\n",
            "Epoch 1/50\n",
            "85/85 [==============================] - 48s 152ms/step - loss: 0.9744 - accuracy: 0.6520 - val_loss: 4.2035 - val_accuracy: 0.3567\n",
            "Epoch 2/50\n",
            "85/85 [==============================] - 11s 135ms/step - loss: 0.1939 - accuracy: 0.9248 - val_loss: 1.3014 - val_accuracy: 0.6561\n",
            "Epoch 3/50\n",
            "85/85 [==============================] - 11s 134ms/step - loss: 0.1184 - accuracy: 0.9540 - val_loss: 1.5482 - val_accuracy: 0.3367\n",
            "Epoch 4/50\n",
            "85/85 [==============================] - 11s 135ms/step - loss: 0.1038 - accuracy: 0.9622 - val_loss: 0.8152 - val_accuracy: 0.5122\n",
            "Epoch 5/50\n",
            "85/85 [==============================] - 11s 134ms/step - loss: 0.0760 - accuracy: 0.9703 - val_loss: 1.2542 - val_accuracy: 0.4833\n",
            "Epoch 6/50\n",
            "85/85 [==============================] - 11s 134ms/step - loss: 0.0569 - accuracy: 0.9781 - val_loss: 1.5922 - val_accuracy: 0.4961\n",
            "Epoch 7/50\n",
            "85/85 [==============================] - 11s 135ms/step - loss: 0.0390 - accuracy: 0.9853 - val_loss: 0.2265 - val_accuracy: 0.9061\n",
            "Epoch 8/50\n",
            "85/85 [==============================] - 11s 135ms/step - loss: 0.0346 - accuracy: 0.9878 - val_loss: 0.1595 - val_accuracy: 0.9428\n",
            "Epoch 9/50\n",
            "85/85 [==============================] - 11s 134ms/step - loss: 0.0346 - accuracy: 0.9880 - val_loss: 0.4065 - val_accuracy: 0.8589\n",
            "Epoch 10/50\n",
            "85/85 [==============================] - 11s 135ms/step - loss: 0.0204 - accuracy: 0.9926 - val_loss: 0.1754 - val_accuracy: 0.9367\n",
            "Epoch 11/50\n",
            "85/85 [==============================] - 11s 135ms/step - loss: 0.0248 - accuracy: 0.9911 - val_loss: 0.2945 - val_accuracy: 0.9144\n",
            "Epoch 12/50\n",
            "85/85 [==============================] - 11s 135ms/step - loss: 0.0285 - accuracy: 0.9904 - val_loss: 0.1947 - val_accuracy: 0.9356\n",
            "Epoch 13/50\n",
            "85/85 [==============================] - 11s 135ms/step - loss: 0.0161 - accuracy: 0.9946 - val_loss: 0.1316 - val_accuracy: 0.9594\n",
            "Epoch 14/50\n",
            "85/85 [==============================] - 11s 134ms/step - loss: 0.0147 - accuracy: 0.9947 - val_loss: 0.1385 - val_accuracy: 0.9517\n",
            "Epoch 15/50\n",
            "85/85 [==============================] - 11s 135ms/step - loss: 0.0200 - accuracy: 0.9923 - val_loss: 0.2514 - val_accuracy: 0.9200\n",
            "Epoch 16/50\n",
            "85/85 [==============================] - 11s 135ms/step - loss: 0.0506 - accuracy: 0.9809 - val_loss: 2.2170 - val_accuracy: 0.6033\n",
            "Epoch 17/50\n",
            "85/85 [==============================] - 11s 134ms/step - loss: 0.0190 - accuracy: 0.9922 - val_loss: 0.1633 - val_accuracy: 0.9450\n",
            "Epoch 18/50\n",
            "85/85 [==============================] - 11s 135ms/step - loss: 0.0105 - accuracy: 0.9952 - val_loss: 0.1153 - val_accuracy: 0.9517\n",
            "Epoch 19/50\n",
            "85/85 [==============================] - 11s 135ms/step - loss: 0.0114 - accuracy: 0.9948 - val_loss: 0.1699 - val_accuracy: 0.9472\n",
            "Epoch 20/50\n",
            "85/85 [==============================] - 11s 135ms/step - loss: 0.0082 - accuracy: 0.9979 - val_loss: 0.2781 - val_accuracy: 0.9244\n",
            "Epoch 21/50\n",
            "85/85 [==============================] - 11s 134ms/step - loss: 0.0183 - accuracy: 0.9929 - val_loss: 0.1570 - val_accuracy: 0.9533\n",
            "Epoch 22/50\n",
            "85/85 [==============================] - 11s 135ms/step - loss: 0.0394 - accuracy: 0.9851 - val_loss: 0.1249 - val_accuracy: 0.9578\n",
            "Epoch 23/50\n",
            "85/85 [==============================] - 11s 135ms/step - loss: 0.0127 - accuracy: 0.9952 - val_loss: 0.3396 - val_accuracy: 0.9189\n",
            "Epoch 24/50\n",
            "85/85 [==============================] - 11s 134ms/step - loss: 0.0173 - accuracy: 0.9930 - val_loss: 0.1787 - val_accuracy: 0.9544\n",
            "Epoch 25/50\n",
            "85/85 [==============================] - 11s 135ms/step - loss: 0.0090 - accuracy: 0.9963 - val_loss: 0.1229 - val_accuracy: 0.9633\n",
            "Epoch 26/50\n",
            "85/85 [==============================] - 11s 135ms/step - loss: 0.0138 - accuracy: 0.9957 - val_loss: 1.5977 - val_accuracy: 0.7372\n",
            "Epoch 27/50\n",
            "85/85 [==============================] - 11s 135ms/step - loss: 0.0102 - accuracy: 0.9970 - val_loss: 0.1901 - val_accuracy: 0.9594\n",
            "Epoch 28/50\n",
            "85/85 [==============================] - 11s 135ms/step - loss: 0.0133 - accuracy: 0.9945 - val_loss: 0.2984 - val_accuracy: 0.9283\n",
            "Epoch 29/50\n",
            "85/85 [==============================] - 11s 135ms/step - loss: 0.0110 - accuracy: 0.9957 - val_loss: 0.1294 - val_accuracy: 0.9656\n",
            "Epoch 30/50\n",
            "85/85 [==============================] - 11s 134ms/step - loss: 0.0096 - accuracy: 0.9968 - val_loss: 0.1741 - val_accuracy: 0.9506\n",
            "Epoch 31/50\n",
            "85/85 [==============================] - 11s 134ms/step - loss: 0.0071 - accuracy: 0.9971 - val_loss: 0.5733 - val_accuracy: 0.9028\n",
            "Epoch 32/50\n",
            "85/85 [==============================] - 11s 135ms/step - loss: 0.0102 - accuracy: 0.9960 - val_loss: 0.6970 - val_accuracy: 0.8833\n",
            "Epoch 33/50\n",
            "85/85 [==============================] - 11s 135ms/step - loss: 0.0107 - accuracy: 0.9962 - val_loss: 0.1667 - val_accuracy: 0.9572\n",
            "Epoch 34/50\n",
            "85/85 [==============================] - 11s 135ms/step - loss: 0.0037 - accuracy: 0.9989 - val_loss: 0.1377 - val_accuracy: 0.9667\n",
            "Epoch 35/50\n",
            "85/85 [==============================] - 11s 135ms/step - loss: 0.0087 - accuracy: 0.9964 - val_loss: 0.1370 - val_accuracy: 0.9661\n",
            "Epoch 36/50\n",
            "85/85 [==============================] - 11s 135ms/step - loss: 0.0114 - accuracy: 0.9964 - val_loss: 0.1552 - val_accuracy: 0.9589\n",
            "Epoch 37/50\n",
            "85/85 [==============================] - 11s 135ms/step - loss: 0.0042 - accuracy: 0.9983 - val_loss: 0.1220 - val_accuracy: 0.9689\n",
            "Epoch 38/50\n",
            "85/85 [==============================] - 11s 135ms/step - loss: 0.0039 - accuracy: 0.9985 - val_loss: 0.2356 - val_accuracy: 0.9494\n",
            "Epoch 39/50\n",
            "85/85 [==============================] - 11s 135ms/step - loss: 0.0045 - accuracy: 0.9982 - val_loss: 0.2912 - val_accuracy: 0.9422\n",
            "Epoch 40/50\n",
            "85/85 [==============================] - 11s 134ms/step - loss: 0.0079 - accuracy: 0.9985 - val_loss: 0.2953 - val_accuracy: 0.9328\n",
            "Epoch 41/50\n",
            "85/85 [==============================] - 11s 134ms/step - loss: 0.0025 - accuracy: 0.9997 - val_loss: 0.3525 - val_accuracy: 0.9283\n",
            "Epoch 42/50\n",
            "85/85 [==============================] - 11s 135ms/step - loss: 0.0110 - accuracy: 0.9964 - val_loss: 0.4606 - val_accuracy: 0.9017\n",
            "Epoch 43/50\n",
            "85/85 [==============================] - 12s 136ms/step - loss: 0.0082 - accuracy: 0.9974 - val_loss: 0.1640 - val_accuracy: 0.9522\n",
            "Epoch 44/50\n",
            "85/85 [==============================] - 12s 136ms/step - loss: 0.0107 - accuracy: 0.9962 - val_loss: 0.2595 - val_accuracy: 0.9450\n",
            "Epoch 45/50\n",
            "85/85 [==============================] - 12s 136ms/step - loss: 0.0067 - accuracy: 0.9981 - val_loss: 0.5392 - val_accuracy: 0.9067\n",
            "Epoch 46/50\n",
            "85/85 [==============================] - 12s 136ms/step - loss: 0.0059 - accuracy: 0.9979 - val_loss: 0.1779 - val_accuracy: 0.9506\n",
            "Epoch 47/50\n",
            "85/85 [==============================] - 11s 135ms/step - loss: 0.0031 - accuracy: 0.9992 - val_loss: 0.3414 - val_accuracy: 0.9322\n",
            "Epoch 48/50\n",
            "85/85 [==============================] - 12s 136ms/step - loss: 0.0158 - accuracy: 0.9949 - val_loss: 0.1316 - val_accuracy: 0.9650\n",
            "Epoch 49/50\n",
            "85/85 [==============================] - 11s 135ms/step - loss: 0.0115 - accuracy: 0.9958 - val_loss: 0.4867 - val_accuracy: 0.8822\n",
            "Epoch 50/50\n",
            "85/85 [==============================] - 12s 136ms/step - loss: 0.0116 - accuracy: 0.9964 - val_loss: 3.7008 - val_accuracy: 0.5522\n",
            "              precision    recall  f1-score   support\n",
            "\n",
            "           0      0.981     0.172     0.292       600\n",
            "           1      0.395     1.000     0.566       600\n",
            "           2      0.983     0.287     0.444       600\n",
            "\n",
            "    accuracy                          0.486      1800\n",
            "   macro avg      0.786     0.486     0.434      1800\n",
            "weighted avg      0.786     0.486     0.434      1800\n",
            "\n",
            "[[103 494   3]\n",
            " [  0 600   0]\n",
            " [  2 426 172]]\n"
          ],
          "name": "stdout"
        },
        {
          "output_type": "display_data",
          "data": {
            "image/png": "[encoded data removed]",
            "text/plain": [
              "<Figure size 432x288 with 1 Axes>"
            ]
          },
          "metadata": {
            "tags": [],
            "needs_background": "light"
          }
        },
        {
          "output_type": "stream",
          "text": [
            "Fold number- 2\n",
            "Epoch 1/50\n",
            "85/85 [==============================] - 12s 137ms/step - loss: 0.0595 - accuracy: 0.9839 - val_loss: 0.2435 - val_accuracy: 0.9383\n",
            "Epoch 2/50\n",
            "85/85 [==============================] - 12s 137ms/step - loss: 0.0238 - accuracy: 0.9922 - val_loss: 0.1159 - val_accuracy: 0.9633\n",
            "Epoch 3/50\n",
            "85/85 [==============================] - 12s 137ms/step - loss: 0.0154 - accuracy: 0.9939 - val_loss: 0.2349 - val_accuracy: 0.9250\n",
            "Epoch 4/50\n",
            "85/85 [==============================] - 12s 137ms/step - loss: 0.0112 - accuracy: 0.9965 - val_loss: 0.0897 - val_accuracy: 0.9728\n",
            "Epoch 5/50\n",
            "85/85 [==============================] - 12s 137ms/step - loss: 0.0083 - accuracy: 0.9969 - val_loss: 0.1257 - val_accuracy: 0.9661\n",
            "Epoch 6/50\n",
            "85/85 [==============================] - 12s 136ms/step - loss: 0.0053 - accuracy: 0.9985 - val_loss: 0.2011 - val_accuracy: 0.9578\n",
            "Epoch 7/50\n",
            "85/85 [==============================] - 12s 137ms/step - loss: 0.0049 - accuracy: 0.9978 - val_loss: 0.1128 - val_accuracy: 0.9722\n",
            "Epoch 8/50\n",
            "85/85 [==============================] - 12s 137ms/step - loss: 0.0057 - accuracy: 0.9985 - val_loss: 0.1197 - val_accuracy: 0.9672\n",
            "Epoch 9/50\n",
            "85/85 [==============================] - 12s 136ms/step - loss: 0.0027 - accuracy: 0.9989 - val_loss: 0.1455 - val_accuracy: 0.9700\n",
            "Epoch 10/50\n",
            "85/85 [==============================] - 12s 136ms/step - loss: 0.0037 - accuracy: 0.9989 - val_loss: 0.4499 - val_accuracy: 0.9278\n",
            "Epoch 11/50\n",
            "85/85 [==============================] - 12s 137ms/step - loss: 0.0058 - accuracy: 0.9976 - val_loss: 0.3220 - val_accuracy: 0.9111\n",
            "Epoch 12/50\n",
            "85/85 [==============================] - 12s 137ms/step - loss: 0.0035 - accuracy: 0.9987 - val_loss: 0.1367 - val_accuracy: 0.9711\n",
            "Epoch 13/50\n",
            "85/85 [==============================] - 12s 137ms/step - loss: 0.0118 - accuracy: 0.9965 - val_loss: 2.0646 - val_accuracy: 0.7833\n",
            "Epoch 14/50\n",
            "85/85 [==============================] - 12s 137ms/step - loss: 0.0072 - accuracy: 0.9969 - val_loss: 0.1929 - val_accuracy: 0.9600\n",
            "Epoch 15/50\n",
            "85/85 [==============================] - 12s 137ms/step - loss: 0.0226 - accuracy: 0.9930 - val_loss: 0.9655 - val_accuracy: 0.8544\n",
            "Epoch 16/50\n",
            "85/85 [==============================] - 12s 136ms/step - loss: 0.0063 - accuracy: 0.9976 - val_loss: 0.2795 - val_accuracy: 0.9489\n",
            "Epoch 17/50\n",
            "85/85 [==============================] - 12s 136ms/step - loss: 0.0047 - accuracy: 0.9981 - val_loss: 0.1838 - val_accuracy: 0.9622\n",
            "Epoch 18/50\n",
            "85/85 [==============================] - 12s 137ms/step - loss: 0.0051 - accuracy: 0.9981 - val_loss: 0.8391 - val_accuracy: 0.8706\n",
            "Epoch 19/50\n",
            "85/85 [==============================] - 12s 136ms/step - loss: 0.0045 - accuracy: 0.9983 - val_loss: 0.2096 - val_accuracy: 0.9578\n",
            "Epoch 20/50\n",
            "85/85 [==============================] - 12s 136ms/step - loss: 0.0152 - accuracy: 0.9961 - val_loss: 0.1095 - val_accuracy: 0.9678\n",
            "Epoch 21/50\n",
            "85/85 [==============================] - 12s 136ms/step - loss: 0.0028 - accuracy: 0.9989 - val_loss: 0.1240 - val_accuracy: 0.9706\n",
            "Epoch 22/50\n",
            "85/85 [==============================] - 12s 136ms/step - loss: 0.0041 - accuracy: 0.9976 - val_loss: 0.1528 - val_accuracy: 0.9661\n",
            "Epoch 23/50\n",
            "85/85 [==============================] - 12s 136ms/step - loss: 0.0013 - accuracy: 0.9993 - val_loss: 0.1861 - val_accuracy: 0.9617\n",
            "Epoch 24/50\n",
            "85/85 [==============================] - 12s 137ms/step - loss: 0.0068 - accuracy: 0.9980 - val_loss: 0.3442 - val_accuracy: 0.9294\n",
            "Epoch 25/50\n",
            "85/85 [==============================] - 12s 137ms/step - loss: 0.0047 - accuracy: 0.9981 - val_loss: 0.1629 - val_accuracy: 0.9639\n",
            "Epoch 26/50\n",
            "85/85 [==============================] - 12s 137ms/step - loss: 0.0075 - accuracy: 0.9972 - val_loss: 0.1754 - val_accuracy: 0.9550\n",
            "Epoch 27/50\n",
            "85/85 [==============================] - 12s 137ms/step - loss: 0.0022 - accuracy: 0.9989 - val_loss: 0.1827 - val_accuracy: 0.9589\n",
            "Epoch 28/50\n",
            "85/85 [==============================] - 12s 136ms/step - loss: 0.0083 - accuracy: 0.9974 - val_loss: 0.1531 - val_accuracy: 0.9667\n",
            "Epoch 29/50\n",
            "85/85 [==============================] - 12s 136ms/step - loss: 0.0034 - accuracy: 0.9985 - val_loss: 0.2167 - val_accuracy: 0.9561\n",
            "Epoch 30/50\n",
            "85/85 [==============================] - 12s 136ms/step - loss: 0.0032 - accuracy: 0.9987 - val_loss: 0.2898 - val_accuracy: 0.9478\n",
            "Epoch 31/50\n",
            "85/85 [==============================] - 12s 136ms/step - loss: 0.0019 - accuracy: 0.9996 - val_loss: 0.1553 - val_accuracy: 0.9661\n",
            "Epoch 32/50\n",
            "85/85 [==============================] - 12s 137ms/step - loss: 8.4494e-04 - accuracy: 1.0000 - val_loss: 0.1572 - val_accuracy: 0.9661\n",
            "Epoch 33/50\n",
            "85/85 [==============================] - 12s 137ms/step - loss: 8.0122e-04 - accuracy: 0.9998 - val_loss: 0.4738 - val_accuracy: 0.9311\n",
            "Epoch 34/50\n",
            "85/85 [==============================] - 12s 137ms/step - loss: 0.0064 - accuracy: 0.9981 - val_loss: 0.2164 - val_accuracy: 0.9522\n",
            "Epoch 35/50\n",
            "85/85 [==============================] - 12s 137ms/step - loss: 0.0020 - accuracy: 0.9993 - val_loss: 0.1636 - val_accuracy: 0.9689\n",
            "Epoch 36/50\n",
            "85/85 [==============================] - 12s 137ms/step - loss: 0.0059 - accuracy: 0.9976 - val_loss: 0.2472 - val_accuracy: 0.9511\n",
            "Epoch 37/50\n",
            "85/85 [==============================] - 12s 138ms/step - loss: 0.0036 - accuracy: 0.9989 - val_loss: 0.1975 - val_accuracy: 0.9617\n",
            "Epoch 38/50\n",
            "85/85 [==============================] - 12s 137ms/step - loss: 0.0081 - accuracy: 0.9970 - val_loss: 0.2636 - val_accuracy: 0.9528\n",
            "Epoch 39/50\n",
            "85/85 [==============================] - 12s 137ms/step - loss: 0.0022 - accuracy: 0.9993 - val_loss: 0.1981 - val_accuracy: 0.9611\n",
            "Epoch 40/50\n",
            "85/85 [==============================] - 12s 137ms/step - loss: 0.0019 - accuracy: 0.9994 - val_loss: 0.1714 - val_accuracy: 0.9644\n",
            "Epoch 41/50\n",
            "85/85 [==============================] - 12s 137ms/step - loss: 0.0012 - accuracy: 0.9994 - val_loss: 0.2138 - val_accuracy: 0.9633\n",
            "Epoch 42/50\n",
            "85/85 [==============================] - 12s 137ms/step - loss: 8.9931e-04 - accuracy: 0.9998 - val_loss: 0.1725 - val_accuracy: 0.9678\n",
            "Epoch 43/50\n",
            "85/85 [==============================] - 12s 137ms/step - loss: 0.0040 - accuracy: 0.9989 - val_loss: 0.2866 - val_accuracy: 0.9394\n",
            "Epoch 44/50\n",
            "85/85 [==============================] - 12s 137ms/step - loss: 0.0062 - accuracy: 0.9981 - val_loss: 0.3008 - val_accuracy: 0.9472\n",
            "Epoch 45/50\n",
            "85/85 [==============================] - 12s 138ms/step - loss: 0.0026 - accuracy: 0.9993 - val_loss: 0.4167 - val_accuracy: 0.9350\n",
            "Epoch 46/50\n",
            "85/85 [==============================] - 12s 138ms/step - loss: 0.0037 - accuracy: 0.9989 - val_loss: 0.1806 - val_accuracy: 0.9628\n",
            "Epoch 47/50\n",
            "85/85 [==============================] - 12s 137ms/step - loss: 0.0047 - accuracy: 0.9981 - val_loss: 0.1227 - val_accuracy: 0.9661\n",
            "Epoch 48/50\n",
            "85/85 [==============================] - 12s 137ms/step - loss: 0.0035 - accuracy: 0.9987 - val_loss: 0.2853 - val_accuracy: 0.9533\n",
            "Epoch 49/50\n",
            "85/85 [==============================] - 12s 137ms/step - loss: 7.8469e-04 - accuracy: 1.0000 - val_loss: 0.1441 - val_accuracy: 0.9711\n",
            "Epoch 50/50\n",
            "85/85 [==============================] - 12s 137ms/step - loss: 0.0015 - accuracy: 0.9994 - val_loss: 0.2488 - val_accuracy: 0.9550\n",
            "              precision    recall  f1-score   support\n",
            "\n",
            "           0      0.983     0.938     0.960       600\n",
            "           1      1.000     1.000     1.000       600\n",
            "           2      0.941     0.983     0.962       600\n",
            "\n",
            "    accuracy                          0.974      1800\n",
            "   macro avg      0.975     0.974     0.974      1800\n",
            "weighted avg      0.975     0.974     0.974      1800\n",
            "\n",
            "[[563   0  37]\n",
            " [  0 600   0]\n",
            " [ 10   0 590]]\n"
          ],
          "name": "stdout"
        },
        {
          "output_type": "display_data",
          "data": {
            "image/png": "[encoded data removed]",
            "text/plain": [
              "<Figure size 432x288 with 1 Axes>"
            ]
          },
          "metadata": {
            "tags": [],
            "needs_background": "light"
          }
        },
        {
          "output_type": "stream",
          "text": [
            "Fold number- 3\n",
            "Epoch 1/50\n",
            "85/85 [==============================] - 12s 137ms/step - loss: 0.0371 - accuracy: 0.9900 - val_loss: 1.7422 - val_accuracy: 0.7644\n",
            "Epoch 2/50\n",
            "85/85 [==============================] - 12s 137ms/step - loss: 0.0178 - accuracy: 0.9939 - val_loss: 0.4372 - val_accuracy: 0.9061\n",
            "Epoch 3/50\n",
            "85/85 [==============================] - 12s 136ms/step - loss: 0.0093 - accuracy: 0.9963 - val_loss: 0.2145 - val_accuracy: 0.9461\n",
            "Epoch 4/50\n",
            "85/85 [==============================] - 11s 135ms/step - loss: 0.0022 - accuracy: 0.9994 - val_loss: 0.1370 - val_accuracy: 0.9694\n",
            "Epoch 5/50\n",
            "85/85 [==============================] - 12s 136ms/step - loss: 0.0018 - accuracy: 0.9998 - val_loss: 0.1901 - val_accuracy: 0.9539\n",
            "Epoch 6/50\n",
            "85/85 [==============================] - 12s 136ms/step - loss: 0.0051 - accuracy: 0.9985 - val_loss: 0.9371 - val_accuracy: 0.9089\n",
            "Epoch 7/50\n",
            "85/85 [==============================] - 12s 136ms/step - loss: 0.0057 - accuracy: 0.9978 - val_loss: 0.2581 - val_accuracy: 0.9550\n",
            "Epoch 8/50\n",
            "85/85 [==============================] - 12s 136ms/step - loss: 0.0059 - accuracy: 0.9978 - val_loss: 0.3352 - val_accuracy: 0.9489\n",
            "Epoch 9/50\n",
            "85/85 [==============================] - 12s 136ms/step - loss: 0.0052 - accuracy: 0.9980 - val_loss: 0.5088 - val_accuracy: 0.9350\n",
            "Epoch 10/50\n",
            "85/85 [==============================] - 12s 137ms/step - loss: 0.0095 - accuracy: 0.9969 - val_loss: 0.2577 - val_accuracy: 0.9561\n",
            "Epoch 11/50\n",
            "85/85 [==============================] - 12s 136ms/step - loss: 0.0029 - accuracy: 0.9994 - val_loss: 0.7770 - val_accuracy: 0.9444\n",
            "Epoch 12/50\n",
            "85/85 [==============================] - 12s 136ms/step - loss: 0.0038 - accuracy: 0.9989 - val_loss: 0.8063 - val_accuracy: 0.9194\n",
            "Epoch 13/50\n",
            "85/85 [==============================] - 11s 135ms/step - loss: 0.0061 - accuracy: 0.9983 - val_loss: 0.1904 - val_accuracy: 0.9689\n",
            "Epoch 14/50\n",
            "85/85 [==============================] - 12s 136ms/step - loss: 0.0014 - accuracy: 0.9998 - val_loss: 0.2588 - val_accuracy: 0.9633\n",
            "Epoch 15/50\n",
            "85/85 [==============================] - 12s 136ms/step - loss: 0.0029 - accuracy: 0.9989 - val_loss: 0.1448 - val_accuracy: 0.9678\n",
            "Epoch 16/50\n",
            "85/85 [==============================] - 12s 136ms/step - loss: 0.0061 - accuracy: 0.9980 - val_loss: 0.4086 - val_accuracy: 0.9328\n",
            "Epoch 17/50\n",
            "85/85 [==============================] - 12s 136ms/step - loss: 0.0029 - accuracy: 0.9985 - val_loss: 0.1274 - val_accuracy: 0.9706\n",
            "Epoch 18/50\n",
            "85/85 [==============================] - 12s 136ms/step - loss: 0.0016 - accuracy: 0.9996 - val_loss: 0.1443 - val_accuracy: 0.9717\n",
            "Epoch 19/50\n",
            "85/85 [==============================] - 11s 135ms/step - loss: 0.0057 - accuracy: 0.9985 - val_loss: 0.3737 - val_accuracy: 0.9417\n",
            "Epoch 20/50\n",
            "85/85 [==============================] - 12s 136ms/step - loss: 0.0061 - accuracy: 0.9972 - val_loss: 0.1914 - val_accuracy: 0.9600\n",
            "Epoch 21/50\n",
            "85/85 [==============================] - 12s 136ms/step - loss: 0.0031 - accuracy: 0.9991 - val_loss: 0.1777 - val_accuracy: 0.9678\n",
            "Epoch 22/50\n",
            "85/85 [==============================] - 12s 136ms/step - loss: 5.8825e-04 - accuracy: 1.0000 - val_loss: 0.2374 - val_accuracy: 0.9628\n",
            "Epoch 23/50\n",
            "85/85 [==============================] - 12s 136ms/step - loss: 0.0017 - accuracy: 0.9996 - val_loss: 0.1833 - val_accuracy: 0.9661\n",
            "Epoch 24/50\n",
            "85/85 [==============================] - 12s 136ms/step - loss: 0.0017 - accuracy: 0.9993 - val_loss: 0.1641 - val_accuracy: 0.9711\n",
            "Epoch 25/50\n",
            "85/85 [==============================] - 12s 136ms/step - loss: 0.0056 - accuracy: 0.9981 - val_loss: 0.1345 - val_accuracy: 0.9672\n",
            "Epoch 26/50\n",
            "85/85 [==============================] - 12s 136ms/step - loss: 0.0042 - accuracy: 0.9985 - val_loss: 0.1019 - val_accuracy: 0.9728\n",
            "Epoch 27/50\n",
            "85/85 [==============================] - 12s 136ms/step - loss: 0.0032 - accuracy: 0.9991 - val_loss: 0.2602 - val_accuracy: 0.9478\n",
            "Epoch 28/50\n",
            "85/85 [==============================] - 12s 136ms/step - loss: 0.0018 - accuracy: 0.9994 - val_loss: 0.1744 - val_accuracy: 0.9700\n",
            "Epoch 29/50\n",
            "85/85 [==============================] - 12s 137ms/step - loss: 0.0021 - accuracy: 0.9994 - val_loss: 0.2638 - val_accuracy: 0.9633\n",
            "Epoch 30/50\n",
            "85/85 [==============================] - 12s 136ms/step - loss: 0.0027 - accuracy: 0.9987 - val_loss: 0.2197 - val_accuracy: 0.9578\n",
            "Epoch 31/50\n",
            "85/85 [==============================] - 12s 137ms/step - loss: 0.0040 - accuracy: 0.9981 - val_loss: 0.2876 - val_accuracy: 0.9383\n",
            "Epoch 32/50\n",
            "85/85 [==============================] - 12s 136ms/step - loss: 0.0019 - accuracy: 0.9991 - val_loss: 0.1870 - val_accuracy: 0.9683\n",
            "Epoch 33/50\n",
            "85/85 [==============================] - 12s 136ms/step - loss: 0.0031 - accuracy: 0.9989 - val_loss: 0.1415 - val_accuracy: 0.9694\n",
            "Epoch 34/50\n",
            "85/85 [==============================] - 12s 136ms/step - loss: 0.0039 - accuracy: 0.9981 - val_loss: 0.8644 - val_accuracy: 0.9011\n",
            "Epoch 35/50\n",
            "85/85 [==============================] - 12s 136ms/step - loss: 0.0027 - accuracy: 0.9994 - val_loss: 0.5016 - val_accuracy: 0.9456\n",
            "Epoch 36/50\n",
            "85/85 [==============================] - 12s 136ms/step - loss: 0.0060 - accuracy: 0.9981 - val_loss: 0.2188 - val_accuracy: 0.9661\n",
            "Epoch 37/50\n",
            "85/85 [==============================] - 12s 137ms/step - loss: 0.0017 - accuracy: 0.9994 - val_loss: 0.2196 - val_accuracy: 0.9644\n",
            "Epoch 38/50\n",
            "85/85 [==============================] - 12s 136ms/step - loss: 0.0021 - accuracy: 0.9991 - val_loss: 0.4402 - val_accuracy: 0.9433\n",
            "Epoch 39/50\n",
            "85/85 [==============================] - 12s 136ms/step - loss: 0.0037 - accuracy: 0.9987 - val_loss: 0.1988 - val_accuracy: 0.9672\n",
            "Epoch 40/50\n",
            "85/85 [==============================] - 12s 137ms/step - loss: 0.0071 - accuracy: 0.9974 - val_loss: 0.2469 - val_accuracy: 0.9594\n",
            "Epoch 41/50\n",
            "85/85 [==============================] - 12s 136ms/step - loss: 0.0053 - accuracy: 0.9983 - val_loss: 0.2321 - val_accuracy: 0.9594\n",
            "Epoch 42/50\n",
            "85/85 [==============================] - 12s 136ms/step - loss: 0.0070 - accuracy: 0.9974 - val_loss: 0.2816 - val_accuracy: 0.9517\n",
            "Epoch 43/50\n",
            "85/85 [==============================] - 12s 136ms/step - loss: 0.0031 - accuracy: 0.9991 - val_loss: 0.1591 - val_accuracy: 0.9700\n",
            "Epoch 44/50\n",
            "85/85 [==============================] - 12s 136ms/step - loss: 0.0011 - accuracy: 0.9996 - val_loss: 0.1751 - val_accuracy: 0.9717\n",
            "Epoch 45/50\n",
            "85/85 [==============================] - 12s 136ms/step - loss: 0.0012 - accuracy: 0.9996 - val_loss: 0.3032 - val_accuracy: 0.9583\n",
            "Epoch 46/50\n",
            "85/85 [==============================] - 12s 136ms/step - loss: 0.0018 - accuracy: 0.9994 - val_loss: 0.1928 - val_accuracy: 0.9678\n",
            "Epoch 47/50\n",
            "85/85 [==============================] - 12s 137ms/step - loss: 0.0049 - accuracy: 0.9981 - val_loss: 0.3916 - val_accuracy: 0.9561\n",
            "Epoch 48/50\n",
            "85/85 [==============================] - 12s 136ms/step - loss: 0.0027 - accuracy: 0.9989 - val_loss: 0.3698 - val_accuracy: 0.9561\n",
            "Epoch 49/50\n",
            "85/85 [==============================] - 12s 136ms/step - loss: 8.3681e-04 - accuracy: 0.9998 - val_loss: 0.3082 - val_accuracy: 0.9644\n",
            "Epoch 50/50\n",
            "85/85 [==============================] - 11s 135ms/step - loss: 8.8902e-04 - accuracy: 0.9996 - val_loss: 0.4006 - val_accuracy: 0.9522\n",
            "              precision    recall  f1-score   support\n",
            "\n",
            "           0      0.949     0.997     0.972       600\n",
            "           1      1.000     1.000     1.000       600\n",
            "           2      0.996     0.947     0.971       600\n",
            "\n",
            "    accuracy                          0.981      1800\n",
            "   macro avg      0.982     0.981     0.981      1800\n",
            "weighted avg      0.982     0.981     0.981      1800\n",
            "\n",
            "[[598   0   2]\n",
            " [  0 600   0]\n",
            " [ 32   0 568]]\n"
          ],
          "name": "stdout"
        },
        {
          "output_type": "display_data",
          "data": {
            "image/png": "[encoded data removed]",
            "text/plain": [
              "<Figure size 432x288 with 1 Axes>"
            ]
          },
          "metadata": {
            "tags": [],
            "needs_background": "light"
          }
        },
        {
          "output_type": "stream",
          "text": [
            "Fold number- 4\n",
            "Epoch 1/50\n",
            "85/85 [==============================] - 12s 138ms/step - loss: 0.0056 - accuracy: 0.9983 - val_loss: 0.3603 - val_accuracy: 0.9417\n",
            "Epoch 2/50\n",
            "85/85 [==============================] - 12s 136ms/step - loss: 0.0042 - accuracy: 0.9991 - val_loss: 0.2029 - val_accuracy: 0.9700\n",
            "Epoch 3/50\n",
            "85/85 [==============================] - 12s 136ms/step - loss: 0.0112 - accuracy: 0.9963 - val_loss: 0.8471 - val_accuracy: 0.8911\n",
            "Epoch 4/50\n",
            "85/85 [==============================] - 12s 136ms/step - loss: 0.0127 - accuracy: 0.9967 - val_loss: 0.4539 - val_accuracy: 0.9278\n",
            "Epoch 5/50\n",
            "85/85 [==============================] - 12s 137ms/step - loss: 0.0075 - accuracy: 0.9970 - val_loss: 0.2574 - val_accuracy: 0.9428\n",
            "Epoch 6/50\n",
            "85/85 [==============================] - 12s 135ms/step - loss: 0.0034 - accuracy: 0.9987 - val_loss: 0.2640 - val_accuracy: 0.9517\n",
            "Epoch 7/50\n",
            "85/85 [==============================] - 12s 136ms/step - loss: 0.0026 - accuracy: 0.9991 - val_loss: 0.2506 - val_accuracy: 0.9561\n",
            "Epoch 8/50\n",
            "85/85 [==============================] - 12s 137ms/step - loss: 9.5468e-04 - accuracy: 0.9996 - val_loss: 0.1577 - val_accuracy: 0.9711\n",
            "Epoch 9/50\n",
            "85/85 [==============================] - 12s 136ms/step - loss: 9.9130e-04 - accuracy: 0.9998 - val_loss: 0.1937 - val_accuracy: 0.9678\n",
            "Epoch 10/50\n",
            "85/85 [==============================] - 12s 136ms/step - loss: 0.0061 - accuracy: 0.9987 - val_loss: 0.2122 - val_accuracy: 0.9694\n",
            "Epoch 11/50\n",
            "85/85 [==============================] - 12s 136ms/step - loss: 0.0067 - accuracy: 0.9991 - val_loss: 0.1956 - val_accuracy: 0.9633\n",
            "Epoch 12/50\n",
            "85/85 [==============================] - 12s 136ms/step - loss: 0.0027 - accuracy: 0.9987 - val_loss: 0.5641 - val_accuracy: 0.9356\n",
            "Epoch 13/50\n",
            "85/85 [==============================] - 12s 136ms/step - loss: 0.0026 - accuracy: 0.9989 - val_loss: 0.2043 - val_accuracy: 0.9656\n",
            "Epoch 14/50\n",
            "85/85 [==============================] - 12s 137ms/step - loss: 9.0245e-04 - accuracy: 0.9996 - val_loss: 0.2072 - val_accuracy: 0.9667\n",
            "Epoch 15/50\n",
            "85/85 [==============================] - 12s 137ms/step - loss: 0.0012 - accuracy: 0.9994 - val_loss: 0.3130 - val_accuracy: 0.9556\n",
            "Epoch 16/50\n",
            "85/85 [==============================] - 12s 136ms/step - loss: 4.6398e-04 - accuracy: 1.0000 - val_loss: 0.2640 - val_accuracy: 0.9633\n",
            "Epoch 17/50\n",
            "85/85 [==============================] - 12s 136ms/step - loss: 2.3441e-04 - accuracy: 1.0000 - val_loss: 0.2487 - val_accuracy: 0.9656\n",
            "Epoch 18/50\n",
            "85/85 [==============================] - 12s 136ms/step - loss: 1.2335e-04 - accuracy: 1.0000 - val_loss: 0.2124 - val_accuracy: 0.9678\n",
            "Epoch 19/50\n",
            "85/85 [==============================] - 12s 136ms/step - loss: 2.5439e-04 - accuracy: 0.9998 - val_loss: 0.2205 - val_accuracy: 0.9689\n",
            "Epoch 20/50\n",
            "85/85 [==============================] - 12s 136ms/step - loss: 0.0030 - accuracy: 0.9989 - val_loss: 0.3627 - val_accuracy: 0.9489\n",
            "Epoch 21/50\n",
            "85/85 [==============================] - 12s 136ms/step - loss: 8.6053e-04 - accuracy: 0.9996 - val_loss: 0.1470 - val_accuracy: 0.9761\n",
            "Epoch 22/50\n",
            "85/85 [==============================] - 12s 137ms/step - loss: 2.3198e-04 - accuracy: 1.0000 - val_loss: 0.1678 - val_accuracy: 0.9728\n",
            "Epoch 23/50\n",
            "85/85 [==============================] - 12s 136ms/step - loss: 1.1024e-04 - accuracy: 1.0000 - val_loss: 0.2005 - val_accuracy: 0.9683\n",
            "Epoch 24/50\n",
            "85/85 [==============================] - 12s 136ms/step - loss: 0.0019 - accuracy: 0.9994 - val_loss: 0.2183 - val_accuracy: 0.9622\n",
            "Epoch 25/50\n",
            "85/85 [==============================] - 12s 136ms/step - loss: 0.0070 - accuracy: 0.9978 - val_loss: 0.1951 - val_accuracy: 0.9672\n",
            "Epoch 26/50\n",
            "85/85 [==============================] - 12s 136ms/step - loss: 0.0014 - accuracy: 0.9991 - val_loss: 0.1739 - val_accuracy: 0.9706\n",
            "Epoch 27/50\n",
            "85/85 [==============================] - 12s 136ms/step - loss: 0.0022 - accuracy: 0.9993 - val_loss: 0.4189 - val_accuracy: 0.9428\n",
            "Epoch 28/50\n",
            "85/85 [==============================] - 12s 136ms/step - loss: 8.8424e-04 - accuracy: 0.9996 - val_loss: 0.2205 - val_accuracy: 0.9650\n",
            "Epoch 29/50\n",
            "85/85 [==============================] - 12s 137ms/step - loss: 1.5084e-04 - accuracy: 1.0000 - val_loss: 0.2331 - val_accuracy: 0.9650\n",
            "Epoch 30/50\n",
            "85/85 [==============================] - 12s 136ms/step - loss: 9.5409e-04 - accuracy: 0.9998 - val_loss: 0.2153 - val_accuracy: 0.9722\n",
            "Epoch 31/50\n",
            "85/85 [==============================] - 12s 136ms/step - loss: 0.0013 - accuracy: 0.9996 - val_loss: 0.4093 - val_accuracy: 0.9494\n",
            "Epoch 32/50\n",
            "85/85 [==============================] - 12s 137ms/step - loss: 0.0044 - accuracy: 0.9981 - val_loss: 0.2589 - val_accuracy: 0.9606\n",
            "Epoch 33/50\n",
            "85/85 [==============================] - 12s 136ms/step - loss: 8.7468e-04 - accuracy: 0.9998 - val_loss: 0.1517 - val_accuracy: 0.9750\n",
            "Epoch 34/50\n",
            "85/85 [==============================] - 12s 136ms/step - loss: 0.0036 - accuracy: 0.9987 - val_loss: 0.8212 - val_accuracy: 0.9056\n",
            "Epoch 35/50\n",
            "85/85 [==============================] - 12s 136ms/step - loss: 0.0017 - accuracy: 0.9993 - val_loss: 0.3939 - val_accuracy: 0.9561\n",
            "Epoch 36/50\n",
            "85/85 [==============================] - 12s 137ms/step - loss: 0.0028 - accuracy: 0.9989 - val_loss: 0.1895 - val_accuracy: 0.9722\n",
            "Epoch 37/50\n",
            "85/85 [==============================] - 12s 136ms/step - loss: 0.0054 - accuracy: 0.9987 - val_loss: 0.2551 - val_accuracy: 0.9628\n",
            "Epoch 38/50\n",
            "85/85 [==============================] - 12s 137ms/step - loss: 6.9515e-04 - accuracy: 0.9998 - val_loss: 0.2313 - val_accuracy: 0.9678\n",
            "Epoch 39/50\n",
            "85/85 [==============================] - 12s 137ms/step - loss: 9.7739e-04 - accuracy: 0.9996 - val_loss: 0.2664 - val_accuracy: 0.9633\n",
            "Epoch 40/50\n",
            "85/85 [==============================] - 12s 136ms/step - loss: 8.6942e-04 - accuracy: 0.9994 - val_loss: 0.1891 - val_accuracy: 0.9717\n",
            "Epoch 41/50\n",
            "85/85 [==============================] - 12s 136ms/step - loss: 4.3216e-04 - accuracy: 0.9998 - val_loss: 0.1985 - val_accuracy: 0.9678\n",
            "Epoch 42/50\n",
            "85/85 [==============================] - 12s 136ms/step - loss: 2.0315e-04 - accuracy: 1.0000 - val_loss: 0.1633 - val_accuracy: 0.9728\n",
            "Epoch 43/50\n",
            "85/85 [==============================] - 12s 137ms/step - loss: 3.3224e-05 - accuracy: 1.0000 - val_loss: 0.1759 - val_accuracy: 0.9744\n",
            "Epoch 44/50\n",
            "85/85 [==============================] - 12s 137ms/step - loss: 7.6697e-04 - accuracy: 0.9998 - val_loss: 0.2838 - val_accuracy: 0.9622\n",
            "Epoch 45/50\n",
            "85/85 [==============================] - 12s 138ms/step - loss: 6.2045e-04 - accuracy: 0.9996 - val_loss: 0.4106 - val_accuracy: 0.9500\n",
            "Epoch 46/50\n",
            "85/85 [==============================] - 12s 137ms/step - loss: 9.1039e-05 - accuracy: 1.0000 - val_loss: 0.2239 - val_accuracy: 0.9667\n",
            "Epoch 47/50\n",
            "85/85 [==============================] - 12s 137ms/step - loss: 0.0021 - accuracy: 0.9996 - val_loss: 2.2804 - val_accuracy: 0.8211\n",
            "Epoch 48/50\n",
            "85/85 [==============================] - 12s 136ms/step - loss: 0.0052 - accuracy: 0.9985 - val_loss: 0.3103 - val_accuracy: 0.9517\n",
            "Epoch 49/50\n",
            "85/85 [==============================] - 12s 136ms/step - loss: 0.0014 - accuracy: 0.9994 - val_loss: 0.2816 - val_accuracy: 0.9633\n",
            "Epoch 50/50\n",
            "85/85 [==============================] - 12s 136ms/step - loss: 0.0010 - accuracy: 0.9996 - val_loss: 0.6251 - val_accuracy: 0.9383\n",
            "              precision    recall  f1-score   support\n",
            "\n",
            "           0      0.844     0.998     0.915       600\n",
            "           1      0.998     1.000     0.999       600\n",
            "           2      0.998     0.813     0.896       600\n",
            "\n",
            "    accuracy                          0.937      1800\n",
            "   macro avg      0.947     0.937     0.937      1800\n",
            "weighted avg      0.947     0.937     0.937      1800\n",
            "\n",
            "[[599   0   1]\n",
            " [  0 600   0]\n",
            " [111   1 488]]\n"
          ],
          "name": "stdout"
        },
        {
          "output_type": "display_data",
          "data": {
            "image/png": "[encoded data removed]",
            "text/plain": [
              "<Figure size 432x288 with 1 Axes>"
            ]
          },
          "metadata": {
            "tags": [],
            "needs_background": "light"
          }
        },
        {
          "output_type": "stream",
          "text": [
            "Fold number- 5\n",
            "Epoch 1/50\n",
            "85/85 [==============================] - 12s 137ms/step - loss: 0.0057 - accuracy: 0.9983 - val_loss: 0.0560 - val_accuracy: 0.9878\n",
            "Epoch 2/50\n",
            "85/85 [==============================] - 11s 135ms/step - loss: 0.0199 - accuracy: 0.9952 - val_loss: 0.1712 - val_accuracy: 0.9728\n",
            "Epoch 3/50\n",
            "85/85 [==============================] - 11s 135ms/step - loss: 0.0035 - accuracy: 0.9991 - val_loss: 0.0819 - val_accuracy: 0.9861\n",
            "Epoch 4/50\n",
            "85/85 [==============================] - 11s 135ms/step - loss: 0.0038 - accuracy: 0.9987 - val_loss: 0.0231 - val_accuracy: 0.9928\n",
            "Epoch 5/50\n",
            "85/85 [==============================] - 11s 135ms/step - loss: 0.0020 - accuracy: 0.9991 - val_loss: 0.0518 - val_accuracy: 0.9922\n",
            "Epoch 6/50\n",
            "85/85 [==============================] - 11s 135ms/step - loss: 0.0043 - accuracy: 0.9981 - val_loss: 0.0363 - val_accuracy: 0.9906\n",
            "Epoch 7/50\n",
            "85/85 [==============================] - 11s 135ms/step - loss: 4.4208e-04 - accuracy: 1.0000 - val_loss: 0.0418 - val_accuracy: 0.9922\n",
            "Epoch 8/50\n",
            "85/85 [==============================] - 11s 135ms/step - loss: 9.2468e-04 - accuracy: 0.9996 - val_loss: 0.0520 - val_accuracy: 0.9911\n",
            "Epoch 9/50\n",
            "85/85 [==============================] - 11s 135ms/step - loss: 2.1892e-04 - accuracy: 1.0000 - val_loss: 0.0389 - val_accuracy: 0.9939\n",
            "Epoch 10/50\n",
            "85/85 [==============================] - 11s 135ms/step - loss: 2.3512e-04 - accuracy: 1.0000 - val_loss: 0.0482 - val_accuracy: 0.9917\n",
            "Epoch 11/50\n",
            "85/85 [==============================] - 11s 135ms/step - loss: 0.0014 - accuracy: 0.9993 - val_loss: 0.0822 - val_accuracy: 0.9850\n",
            "Epoch 12/50\n",
            "85/85 [==============================] - 12s 135ms/step - loss: 2.2673e-04 - accuracy: 1.0000 - val_loss: 0.0541 - val_accuracy: 0.9900\n",
            "Epoch 13/50\n",
            "85/85 [==============================] - 11s 135ms/step - loss: 1.7955e-04 - accuracy: 1.0000 - val_loss: 0.0571 - val_accuracy: 0.9906\n",
            "Epoch 14/50\n",
            "85/85 [==============================] - 12s 136ms/step - loss: 0.0013 - accuracy: 0.9998 - val_loss: 0.2897 - val_accuracy: 0.9683\n",
            "Epoch 15/50\n",
            "85/85 [==============================] - 11s 135ms/step - loss: 4.9944e-04 - accuracy: 0.9998 - val_loss: 0.1167 - val_accuracy: 0.9783\n",
            "Epoch 16/50\n",
            "85/85 [==============================] - 11s 135ms/step - loss: 0.0025 - accuracy: 0.9994 - val_loss: 0.0382 - val_accuracy: 0.9928\n",
            "Epoch 17/50\n",
            "85/85 [==============================] - 11s 135ms/step - loss: 0.0073 - accuracy: 0.9993 - val_loss: 0.0407 - val_accuracy: 0.9933\n",
            "Epoch 18/50\n",
            "85/85 [==============================] - 12s 136ms/step - loss: 3.9160e-04 - accuracy: 1.0000 - val_loss: 0.0259 - val_accuracy: 0.9933\n",
            "Epoch 19/50\n",
            "85/85 [==============================] - 12s 136ms/step - loss: 0.0027 - accuracy: 0.9994 - val_loss: 0.1330 - val_accuracy: 0.9711\n",
            "Epoch 20/50\n",
            "85/85 [==============================] - 11s 135ms/step - loss: 9.3544e-04 - accuracy: 0.9996 - val_loss: 0.0588 - val_accuracy: 0.9872\n",
            "Epoch 21/50\n",
            "85/85 [==============================] - 11s 135ms/step - loss: 0.0025 - accuracy: 0.9994 - val_loss: 0.0595 - val_accuracy: 0.9839\n",
            "Epoch 22/50\n",
            "85/85 [==============================] - 12s 136ms/step - loss: 0.0013 - accuracy: 0.9996 - val_loss: 0.0268 - val_accuracy: 0.9950\n",
            "Epoch 23/50\n",
            "85/85 [==============================] - 12s 136ms/step - loss: 1.4823e-04 - accuracy: 1.0000 - val_loss: 0.0431 - val_accuracy: 0.9906\n",
            "Epoch 24/50\n",
            "85/85 [==============================] - 11s 135ms/step - loss: 1.3869e-04 - accuracy: 1.0000 - val_loss: 0.0310 - val_accuracy: 0.9922\n",
            "Epoch 25/50\n",
            "85/85 [==============================] - 12s 136ms/step - loss: 9.4199e-05 - accuracy: 1.0000 - val_loss: 0.0458 - val_accuracy: 0.9900\n",
            "Epoch 26/50\n",
            "85/85 [==============================] - 11s 135ms/step - loss: 5.3225e-04 - accuracy: 0.9998 - val_loss: 0.0848 - val_accuracy: 0.9811\n",
            "Epoch 27/50\n",
            "85/85 [==============================] - 11s 135ms/step - loss: 0.0116 - accuracy: 0.9963 - val_loss: 1.3488 - val_accuracy: 0.9022\n",
            "Epoch 28/50\n",
            "85/85 [==============================] - 12s 137ms/step - loss: 0.0031 - accuracy: 0.9987 - val_loss: 0.1530 - val_accuracy: 0.9656\n",
            "Epoch 29/50\n",
            "85/85 [==============================] - 12s 136ms/step - loss: 0.0041 - accuracy: 0.9987 - val_loss: 0.4566 - val_accuracy: 0.9150\n",
            "Epoch 30/50\n",
            "85/85 [==============================] - 12s 137ms/step - loss: 0.0046 - accuracy: 0.9991 - val_loss: 0.2339 - val_accuracy: 0.9717\n",
            "Epoch 31/50\n",
            "85/85 [==============================] - 12s 136ms/step - loss: 0.0014 - accuracy: 0.9994 - val_loss: 0.1352 - val_accuracy: 0.9794\n",
            "Epoch 32/50\n",
            "85/85 [==============================] - 12s 137ms/step - loss: 8.9672e-04 - accuracy: 0.9994 - val_loss: 0.1137 - val_accuracy: 0.9828\n",
            "Epoch 33/50\n",
            "85/85 [==============================] - 12s 137ms/step - loss: 0.0011 - accuracy: 0.9994 - val_loss: 0.1044 - val_accuracy: 0.9800\n",
            "Epoch 34/50\n",
            "85/85 [==============================] - 12s 137ms/step - loss: 0.0016 - accuracy: 0.9989 - val_loss: 0.1820 - val_accuracy: 0.9733\n",
            "Epoch 35/50\n",
            "85/85 [==============================] - 12s 137ms/step - loss: 0.0032 - accuracy: 0.9991 - val_loss: 0.0594 - val_accuracy: 0.9883\n",
            "Epoch 36/50\n",
            "85/85 [==============================] - 12s 137ms/step - loss: 6.0938e-04 - accuracy: 0.9998 - val_loss: 0.0395 - val_accuracy: 0.9917\n",
            "Epoch 37/50\n",
            "85/85 [==============================] - 12s 137ms/step - loss: 9.3738e-04 - accuracy: 0.9994 - val_loss: 0.1365 - val_accuracy: 0.9761\n",
            "Epoch 38/50\n",
            "85/85 [==============================] - 12s 136ms/step - loss: 0.0025 - accuracy: 0.9994 - val_loss: 0.0981 - val_accuracy: 0.9856\n",
            "Epoch 39/50\n",
            "85/85 [==============================] - 12s 136ms/step - loss: 1.5044e-04 - accuracy: 1.0000 - val_loss: 0.1135 - val_accuracy: 0.9856\n",
            "Epoch 40/50\n",
            "85/85 [==============================] - 12s 136ms/step - loss: 4.0470e-04 - accuracy: 0.9998 - val_loss: 0.1061 - val_accuracy: 0.9806\n",
            "Epoch 41/50\n",
            "85/85 [==============================] - 12s 136ms/step - loss: 8.7283e-05 - accuracy: 1.0000 - val_loss: 0.0780 - val_accuracy: 0.9889\n",
            "Epoch 42/50\n",
            "85/85 [==============================] - 12s 137ms/step - loss: 1.3941e-04 - accuracy: 1.0000 - val_loss: 0.0903 - val_accuracy: 0.9894\n",
            "Epoch 43/50\n",
            "85/85 [==============================] - 12s 136ms/step - loss: 6.8292e-04 - accuracy: 0.9996 - val_loss: 0.2000 - val_accuracy: 0.9856\n",
            "Epoch 44/50\n",
            "85/85 [==============================] - 12s 136ms/step - loss: 9.2657e-04 - accuracy: 0.9998 - val_loss: 0.0876 - val_accuracy: 0.9867\n",
            "Epoch 45/50\n",
            "85/85 [==============================] - 12s 136ms/step - loss: 4.3232e-04 - accuracy: 0.9998 - val_loss: 0.1067 - val_accuracy: 0.9817\n",
            "Epoch 46/50\n",
            "85/85 [==============================] - 12s 136ms/step - loss: 1.6315e-04 - accuracy: 1.0000 - val_loss: 0.0906 - val_accuracy: 0.9872\n",
            "Epoch 47/50\n",
            "85/85 [==============================] - 12s 136ms/step - loss: 4.7398e-05 - accuracy: 1.0000 - val_loss: 0.0933 - val_accuracy: 0.9872\n",
            "Epoch 48/50\n",
            "85/85 [==============================] - 12s 138ms/step - loss: 1.5409e-04 - accuracy: 1.0000 - val_loss: 0.0866 - val_accuracy: 0.9894\n",
            "Epoch 49/50\n",
            "85/85 [==============================] - 12s 137ms/step - loss: 4.9607e-05 - accuracy: 1.0000 - val_loss: 0.0866 - val_accuracy: 0.9889\n",
            "Epoch 50/50\n",
            "85/85 [==============================] - 12s 136ms/step - loss: 4.7670e-05 - accuracy: 1.0000 - val_loss: 0.0965 - val_accuracy: 0.9850\n",
            "              precision    recall  f1-score   support\n",
            "\n",
            "           0      0.922     0.980     0.950       600\n",
            "           1      1.000     1.000     1.000       600\n",
            "           2      0.979     0.917     0.947       600\n",
            "\n",
            "    accuracy                          0.966      1800\n",
            "   macro avg      0.967     0.966     0.966      1800\n",
            "weighted avg      0.967     0.966     0.966      1800\n",
            "\n",
            "[[588   0  12]\n",
            " [  0 600   0]\n",
            " [ 50   0 550]]\n"
          ],
          "name": "stdout"
        },
        {
          "output_type": "display_data",
          "data": {
            "image/png": "[encoded data removed]",
            "text/plain": [
              "<Figure size 432x288 with 1 Axes>"
            ]
          },
          "metadata": {
            "tags": [],
            "needs_background": "light"
          }
        },
        {
          "output_type": "stream",
          "text": [
            "Total runtime of the program is 2966.5161979198456\n"
          ],
          "name": "stdout"
        }
      ]
    },
    {
      "cell_type": "code",
      "metadata": {
        "colab": {
          "base_uri": "https://localhost:8080/"
        },
        "id": "bdHfrRNthZfy",
        "outputId": "519969dd-d240-40ee-fa73-a567a12e212b"
      },
      "source": [
        "print(\"Training score:\")\n",
        " \n",
        "sum_train = 0 \n",
        " \n",
        "for i in range(5):\n",
        " print(scores_model_train[i])\n",
        " sum_train += scores_model_train[i]\n",
        " \n",
        "print(\"\\nAverage training score:\", sum_train/5)\n",
        " \n",
        "print(\"\\nTesting score:\")\n",
        " \n",
        "sum_test = 0 \n",
        " \n",
        "for i in range(5):\n",
        " print(scores_model_test[i])\n",
        " sum_test += scores_model_test[i]\n",
        " \n",
        "print(\"\\nAverage testing score:\", sum_test/5)"
      ],
      "execution_count": null,
      "outputs": [
        {
          "output_type": "stream",
          "text": [
            "Training score:\n",
            "0.5459722280502319\n",
            "0.9795833230018616\n",
            "0.9788888692855835\n",
            "0.9688888788223267\n",
            "0.9950000047683716\n",
            "\n",
            "Average training score: 0.893666660785675\n",
            "\n",
            "Testing score:\n",
            "0.4861111044883728\n",
            "0.9738888740539551\n",
            "0.9811111092567444\n",
            "0.9372222423553467\n",
            "0.9655555486679077\n",
            "\n",
            "Average testing score: 0.8687777757644654\n"
          ],
          "name": "stdout"
        }
      ]
    },
    {
      "cell_type": "code",
      "metadata": {
        "id": "wKVkrKZRKZCn"
      },
      "source": [
        ""
      ],
      "execution_count": null,
      "outputs": []
    }
  ]
}